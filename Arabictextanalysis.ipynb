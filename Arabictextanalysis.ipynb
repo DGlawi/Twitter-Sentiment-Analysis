{
  "nbformat": 4,
  "nbformat_minor": 0,
  "metadata": {
    "colab": {
      "provenance": [],
      "authorship_tag": "ABX9TyMqbUVkQvF1B+jB0imFpQXl",
      "include_colab_link": true
    },
    "kernelspec": {
      "name": "python3",
      "display_name": "Python 3"
    },
    "language_info": {
      "name": "python"
    }
  },
  "cells": [
    {
      "cell_type": "markdown",
      "metadata": {
        "id": "view-in-github",
        "colab_type": "text"
      },
      "source": [
        "<a href=\"https://colab.research.google.com/github/DGlawi/Twitter-Sentiment-Analysis/blob/main/Arabictextanalysis.ipynb\" target=\"_parent\"><img src=\"https://colab.research.google.com/assets/colab-badge.svg\" alt=\"Open In Colab\"/></a>"
      ]
    },
    {
      "cell_type": "code",
      "execution_count": 1,
      "metadata": {
        "colab": {
          "base_uri": "https://localhost:8080/"
        },
        "id": "rWDZ9wVVeW5u",
        "outputId": "cc452427-430a-49a1-a9f8-419a4e17d68e"
      },
      "outputs": [
        {
          "output_type": "stream",
          "name": "stdout",
          "text": [
            "Collecting newspaper3k\n",
            "  Downloading newspaper3k-0.2.8-py3-none-any.whl (211 kB)\n",
            "\u001b[?25l     \u001b[90m━━━━━━━━━━━━━━━━━━━━━━━━━━━━━━━━━━━━━━━━\u001b[0m \u001b[32m0.0/211.1 kB\u001b[0m \u001b[31m?\u001b[0m eta \u001b[36m-:--:--\u001b[0m\r\u001b[2K     \u001b[91m━━━━━━━━━━━━━━━━━━━━━━━━━━━━━━━━━━\u001b[0m\u001b[91m╸\u001b[0m\u001b[90m━━━━━\u001b[0m \u001b[32m184.3/211.1 kB\u001b[0m \u001b[31m5.3 MB/s\u001b[0m eta \u001b[36m0:00:01\u001b[0m\r\u001b[2K     \u001b[90m━━━━━━━━━━━━━━━━━━━━━━━━━━━━━━━━━━━━━━━━\u001b[0m \u001b[32m211.1/211.1 kB\u001b[0m \u001b[31m4.7 MB/s\u001b[0m eta \u001b[36m0:00:00\u001b[0m\n",
            "\u001b[?25hRequirement already satisfied: beautifulsoup4>=4.4.1 in /usr/local/lib/python3.10/dist-packages (from newspaper3k) (4.11.2)\n",
            "Requirement already satisfied: Pillow>=3.3.0 in /usr/local/lib/python3.10/dist-packages (from newspaper3k) (9.4.0)\n",
            "Requirement already satisfied: PyYAML>=3.11 in /usr/local/lib/python3.10/dist-packages (from newspaper3k) (6.0.1)\n",
            "Collecting cssselect>=0.9.2 (from newspaper3k)\n",
            "  Downloading cssselect-1.2.0-py2.py3-none-any.whl (18 kB)\n",
            "Requirement already satisfied: lxml>=3.6.0 in /usr/local/lib/python3.10/dist-packages (from newspaper3k) (4.9.3)\n",
            "Requirement already satisfied: nltk>=3.2.1 in /usr/local/lib/python3.10/dist-packages (from newspaper3k) (3.8.1)\n",
            "Requirement already satisfied: requests>=2.10.0 in /usr/local/lib/python3.10/dist-packages (from newspaper3k) (2.31.0)\n",
            "Collecting feedparser>=5.2.1 (from newspaper3k)\n",
            "  Downloading feedparser-6.0.10-py3-none-any.whl (81 kB)\n",
            "\u001b[2K     \u001b[90m━━━━━━━━━━━━━━━━━━━━━━━━━━━━━━━━━━━━━━━━\u001b[0m \u001b[32m81.1/81.1 kB\u001b[0m \u001b[31m10.6 MB/s\u001b[0m eta \u001b[36m0:00:00\u001b[0m\n",
            "\u001b[?25hCollecting tldextract>=2.0.1 (from newspaper3k)\n",
            "  Downloading tldextract-5.1.1-py3-none-any.whl (97 kB)\n",
            "\u001b[2K     \u001b[90m━━━━━━━━━━━━━━━━━━━━━━━━━━━━━━━━━━━━━━━━\u001b[0m \u001b[32m97.7/97.7 kB\u001b[0m \u001b[31m13.0 MB/s\u001b[0m eta \u001b[36m0:00:00\u001b[0m\n",
            "\u001b[?25hCollecting feedfinder2>=0.0.4 (from newspaper3k)\n",
            "  Downloading feedfinder2-0.0.4.tar.gz (3.3 kB)\n",
            "  Preparing metadata (setup.py) ... \u001b[?25l\u001b[?25hdone\n",
            "Collecting jieba3k>=0.35.1 (from newspaper3k)\n",
            "  Downloading jieba3k-0.35.1.zip (7.4 MB)\n",
            "\u001b[2K     \u001b[90m━━━━━━━━━━━━━━━━━━━━━━━━━━━━━━━━━━━━━━━━\u001b[0m \u001b[32m7.4/7.4 MB\u001b[0m \u001b[31m87.4 MB/s\u001b[0m eta \u001b[36m0:00:00\u001b[0m\n",
            "\u001b[?25h  Preparing metadata (setup.py) ... \u001b[?25l\u001b[?25hdone\n",
            "Requirement already satisfied: python-dateutil>=2.5.3 in /usr/local/lib/python3.10/dist-packages (from newspaper3k) (2.8.2)\n",
            "Collecting tinysegmenter==0.3 (from newspaper3k)\n",
            "  Downloading tinysegmenter-0.3.tar.gz (16 kB)\n",
            "  Preparing metadata (setup.py) ... \u001b[?25l\u001b[?25hdone\n",
            "Requirement already satisfied: soupsieve>1.2 in /usr/local/lib/python3.10/dist-packages (from beautifulsoup4>=4.4.1->newspaper3k) (2.5)\n",
            "Requirement already satisfied: six in /usr/local/lib/python3.10/dist-packages (from feedfinder2>=0.0.4->newspaper3k) (1.16.0)\n",
            "Collecting sgmllib3k (from feedparser>=5.2.1->newspaper3k)\n",
            "  Downloading sgmllib3k-1.0.0.tar.gz (5.8 kB)\n",
            "  Preparing metadata (setup.py) ... \u001b[?25l\u001b[?25hdone\n",
            "Requirement already satisfied: click in /usr/local/lib/python3.10/dist-packages (from nltk>=3.2.1->newspaper3k) (8.1.7)\n",
            "Requirement already satisfied: joblib in /usr/local/lib/python3.10/dist-packages (from nltk>=3.2.1->newspaper3k) (1.3.2)\n",
            "Requirement already satisfied: regex>=2021.8.3 in /usr/local/lib/python3.10/dist-packages (from nltk>=3.2.1->newspaper3k) (2023.6.3)\n",
            "Requirement already satisfied: tqdm in /usr/local/lib/python3.10/dist-packages (from nltk>=3.2.1->newspaper3k) (4.66.1)\n",
            "Requirement already satisfied: charset-normalizer<4,>=2 in /usr/local/lib/python3.10/dist-packages (from requests>=2.10.0->newspaper3k) (3.3.2)\n",
            "Requirement already satisfied: idna<4,>=2.5 in /usr/local/lib/python3.10/dist-packages (from requests>=2.10.0->newspaper3k) (3.4)\n",
            "Requirement already satisfied: urllib3<3,>=1.21.1 in /usr/local/lib/python3.10/dist-packages (from requests>=2.10.0->newspaper3k) (2.0.7)\n",
            "Requirement already satisfied: certifi>=2017.4.17 in /usr/local/lib/python3.10/dist-packages (from requests>=2.10.0->newspaper3k) (2023.7.22)\n",
            "Collecting requests-file>=1.4 (from tldextract>=2.0.1->newspaper3k)\n",
            "  Downloading requests_file-1.5.1-py2.py3-none-any.whl (3.7 kB)\n",
            "Requirement already satisfied: filelock>=3.0.8 in /usr/local/lib/python3.10/dist-packages (from tldextract>=2.0.1->newspaper3k) (3.13.1)\n",
            "Building wheels for collected packages: tinysegmenter, feedfinder2, jieba3k, sgmllib3k\n",
            "  Building wheel for tinysegmenter (setup.py) ... \u001b[?25l\u001b[?25hdone\n",
            "  Created wheel for tinysegmenter: filename=tinysegmenter-0.3-py3-none-any.whl size=13540 sha256=cb4336e3258b7d4b900ef9fed2a7ddfdd5cfaf4a66018d4a3dfcdbabeea45886\n",
            "  Stored in directory: /root/.cache/pip/wheels/c8/d6/6c/384f58df48c00b9a31d638005143b5b3ac62c3d25fb1447f23\n",
            "  Building wheel for feedfinder2 (setup.py) ... \u001b[?25l\u001b[?25hdone\n",
            "  Created wheel for feedfinder2: filename=feedfinder2-0.0.4-py3-none-any.whl size=3339 sha256=7f4d3841e2499f733ed40541999c21f7ce3b2811836c9cbfde433c4831de417f\n",
            "  Stored in directory: /root/.cache/pip/wheels/97/02/e7/a1ff1760e12bdbaab0ac824fae5c1bc933e41c4ccd6a8f8edb\n",
            "  Building wheel for jieba3k (setup.py) ... \u001b[?25l\u001b[?25hdone\n",
            "  Created wheel for jieba3k: filename=jieba3k-0.35.1-py3-none-any.whl size=7398381 sha256=0c125825530d58f7195974525d37e61e41c3d7e16ab41bf24ea3fcb9e9bbfeab\n",
            "  Stored in directory: /root/.cache/pip/wheels/7a/c4/0c/12a9a314ecac499456c4c3b2fcc2f635a3b45a39dfbd240299\n",
            "  Building wheel for sgmllib3k (setup.py) ... \u001b[?25l\u001b[?25hdone\n",
            "  Created wheel for sgmllib3k: filename=sgmllib3k-1.0.0-py3-none-any.whl size=6049 sha256=a2c2109435cda91dde5bda0619ace6cdd95429ee85f5913f1d67a42e22c4d4ae\n",
            "  Stored in directory: /root/.cache/pip/wheels/f0/69/93/a47e9d621be168e9e33c7ce60524393c0b92ae83cf6c6e89c5\n",
            "Successfully built tinysegmenter feedfinder2 jieba3k sgmllib3k\n",
            "Installing collected packages: tinysegmenter, sgmllib3k, jieba3k, feedparser, cssselect, requests-file, feedfinder2, tldextract, newspaper3k\n",
            "Successfully installed cssselect-1.2.0 feedfinder2-0.0.4 feedparser-6.0.10 jieba3k-0.35.1 newspaper3k-0.2.8 requests-file-1.5.1 sgmllib3k-1.0.0 tinysegmenter-0.3 tldextract-5.1.1\n"
          ]
        }
      ],
      "source": [
        "pip install newspaper3k"
      ]
    },
    {
      "cell_type": "code",
      "source": [
        "from newspaper import Article"
      ],
      "metadata": {
        "id": "H--Nf7Wme7jQ"
      },
      "execution_count": 2,
      "outputs": []
    },
    {
      "cell_type": "code",
      "source": [
        "url = 'https://www.alaraby.co.uk/opinion/%D9%84%D9%85%D8%A7%D8%B0%D8%A7-%D8%A7%D9%84%D8%B1%D9%8A%D8%A7%D8%B6-%D9%88%D9%84%D9%8A%D8%B3-%D9%85%D9%86%D8%B5%D9%91%D8%A9-x/'"
      ],
      "metadata": {
        "id": "ieQ-2RvVfBzD"
      },
      "execution_count": 64,
      "outputs": []
    },
    {
      "cell_type": "code",
      "source": [
        "article = Article(url)"
      ],
      "metadata": {
        "id": "dXMDT-tHfSs6"
      },
      "execution_count": 65,
      "outputs": []
    },
    {
      "cell_type": "code",
      "source": [
        "article.download()"
      ],
      "metadata": {
        "id": "8K1OAbPzfa20"
      },
      "execution_count": 66,
      "outputs": []
    },
    {
      "cell_type": "code",
      "source": [
        "article.html"
      ],
      "metadata": {
        "colab": {
          "base_uri": "https://localhost:8080/",
          "height": 143
        },
        "id": "kgR8ecR7fdnM",
        "outputId": "36f5e501-646b-4524-f823-297520240969"
      },
      "execution_count": 67,
      "outputs": [
        {
          "output_type": "execute_result",
          "data": {
            "text/plain": [
              "'<!DOCTYPE html>\\n<html lang=\"ar\" dir=\"rtl\" prefix=\"content: http://purl.org/rss/1.0/modules/content/  dc: http://purl.org/dc/terms/  foaf: http://xmlns.com/foaf/0.1/  og: http://ogp.me/ns#  rdfs: http://www.w3.org/2000/01/rdf-schema#  schema: http://schema.org/  sioc: http://rdfs.org/sioc/ns#  sioct: http://rdfs.org/sioc/types#  skos: http://www.w3.org/2004/02/skos/core#  xsd: http://www.w3.org/2001/XMLSchema# \">\\n    <head>\\n    <meta charset=\"utf-8\" />\\n<script>window.googletag = window.googletag || {cmd: []}; googletag.cmd.push(function() {\\n    googletag.pubads().enableSingleRequest();\\n    googletag.pubads().collapseEmptyDivs();\\n    googletag.enableServices();\\n  });</script>\\n<link rel=\"canonical\" href=\"https://www.alaraby.co.uk/opinion/%D9%84%D9%85%D8%A7%D8%B0%D8%A7-%D8%A7%D9%84%D8%B1%D9%8A%D8%A7%D8%B6-%D9%88%D9%84%D9%8A%D8%B3-%D9%85%D9%86%D8%B5%D9%91%D8%A9-x\" />\\n<meta http-equiv=\"content-language\" content=\"ar\" />\\n<meta name=\"robots\" content=\"index, follow\" />\\n<link rel=\"shortlink\" href=\"https://edgs.co/rf31n\" />\\n<meta name=\"news_keywords\" content=\"حسن نصر الله, حسام زملط, رحمة زين, باسم يوسف\" />\\n<link rel=\"image_src\" href=\"https://www.alaraby.co.uk/sites/default/files/styles/meduim_16_9/public/1775488362.jpeg?h=19ef886c&amp;itok=beXkL03A\" />\\n<meta name=\"original-source\" content=\"www.alaraby.co.uk\" />\\n<meta name=\"referrer\" content=\"origin-when-cross-origin\" />\\n<meta name=\"rights\" content=\"www.alaraby.co.uk\" />\\n<meta name=\"description\" content=\"جاءت بعض الخطابات في قمة الرياض أشبه بتغريدات منصة إكس أو &quot;فيسبوك&quot; بعد أسرلتها &quot;حرفيا&quot;. تعتمد كثير من خطابات الساسة العرب إلى شعوبهم على محدد &quot;معرفة الدولة&quot; ما لا يعرفه غيرها، سواء كانوا من المعارضين، أو عوامّ الناس ممن لا يعرفون شيئا على الإطلاق.\" />\\n<meta name=\"dcterms.title\" content=\"لماذا الرياض وليس &quot;منصّة x&quot;؟\" />\\n<meta name=\"dcterms.creator\" content=\"Sinan.Satic\" />\\n<meta name=\"dcterms.description\" content=\"جاءت بعض الخطابات في قمة الرياض أشبه بتغريدات منصة إكس أو &quot;فيسبوك&quot; بعد أسرلتها &quot;حرفيا&quot;. تعتمد كثير من خطابات الساسة العرب إلى شعوبهم على محدد &quot;معرفة الدولة&quot; ما لا يعرفه غيرها، سواء كانوا من المعارضين، أو عوامّ الناس ممن لا يعرفون شيئا على الإطلاق.\" />\\n<meta name=\"dcterms.publisher\" content=\"العربي الجديد\" />\\n<meta name=\"dcterms.contributor\" content=\"https://www.alaraby.co.uk/\" />\\n<meta name=\"dcterms.identifier\" content=\"https://www.alaraby.co.uk/\" />\\n<meta name=\"dcterms.source\" content=\"https://www.alaraby.co.uk/\" />\\n<meta name=\"dcterms.language\" content=\"ar\" />\\n<meta name=\"dcterms.rights\" content=\"https://www.alaraby.co.uk/\" />\\n<meta property=\"fb:pages\" content=\"679534268781926\" />\\n<meta property=\"fb:app_id\" content=\"1486573318285171\" />\\n<link rel=\"mask-icon\" href=\"/themes/custom/alaraby/fav.ico\" />\\n<link rel=\"icon\" sizes=\"16x16\" href=\"/themes/custom/alaraby/fav.ico\" />\\n<link rel=\"apple-touch-icon\" sizes=\"76x76\" href=\"/themes/custom/alaraby/images/touch-icon-ipad.jpg\" />\\n<link rel=\"apple-touch-icon\" sizes=\"120x120\" href=\"/themes/custom/alaraby/images/touch-icon-iphone-retina.jpg\" />\\n<link rel=\"apple-touch-icon\" sizes=\"152x152\" href=\"/themes/custom/alaraby/images/touch-icon-ipad-retina.jpg\" />\\n<meta property=\"og:site_name\" content=\"العربي الجديد\" />\\n<meta property=\"og:type\" content=\"article\" />\\n<meta property=\"og:url\" content=\"https://www.alaraby.co.uk/opinion/%D9%84%D9%85%D8%A7%D8%B0%D8%A7-%D8%A7%D9%84%D8%B1%D9%8A%D8%A7%D8%B6-%D9%88%D9%84%D9%8A%D8%B3-%D9%85%D9%86%D8%B5%D9%91%D8%A9-x\" />\\n<meta property=\"og:title\" content=\"لماذا الرياض وليس &quot;منصّة x&quot;؟\" />\\n<meta property=\"og:description\" content=\"جاءت بعض الخطابات في قمة الرياض أشبه بتغريدات منصة إكس أو &quot;فيسبوك&quot; بعد أسرلتها &quot;حرفيا&quot;. تعتمد كثير من خطابات الساسة العرب إلى شعوبهم على محدد &quot;معرفة الدولة&quot; ما لا يعرفه غيرها، سواء كانوا من المعارضين، أو عوامّ الناس ممن لا يعرفون شيئا على الإطلاق.\" />\\n<meta property=\"og:image\" content=\"https://www.alaraby.co.uk/sites/default/files/styles/meduim_16_9/public/1775488362.jpeg?h=19ef886c&amp;itok=beXkL03A\" />\\n<meta property=\"og:image:url\" content=\"https://www.alaraby.co.uk/sites/default/files/styles/meduim_16_9/public/1775488362.jpeg?h=19ef886c&amp;itok=beXkL03A\" />\\n<meta property=\"og:image:secure_url\" content=\"https://www.alaraby.co.uk/sites/default/files/styles/meduim_16_9/public/1775488362.jpeg?h=19ef886c&amp;itok=beXkL03A\" />\\n<meta property=\"og:image:type\" content=\"image/jpg\" />\\n<meta property=\"og:image:width\" content=\"685\" />\\n<meta property=\"og:image:height\" content=\"386\" />\\n<meta property=\"og:locale\" content=\"ar_AR\" />\\n<meta property=\"article:author\" content=\"محمد طلبة رضوان\" />\\n<meta property=\"article:section\" content=\"زوايا\" />\\n<meta name=\"twitter:card\" content=\"summary_large_image\" />\\n<meta name=\"twitter:description\" content=\"جاءت بعض الخطابات في قمة الرياض أشبه بتغريدات منصة إكس أو &quot;فيسبوك&quot; بعد أسرلتها &quot;حرفيا&quot;. تعتمد كثير من خطابات الساسة العرب إلى شعوبهم على محدد &quot;معرفة الدولة&quot; ما لا يعرفه غيرها، سواء كانوا من المعارضين، أو عوامّ الناس ممن لا يعرفون شيئا على الإطلاق.\" />\\n<meta name=\"twitter:site\" content=\"@alaraby_ar\" />\\n<meta name=\"twitter:title\" content=\"لماذا الرياض وليس &quot;منصّة x&quot;؟\" />\\n<meta name=\"twitter:creator\" content=\"@alaraby_ar\" />\\n<meta name=\"twitter:url\" content=\"https://www.alaraby.co.uk/opinion/%D9%84%D9%85%D8%A7%D8%B0%D8%A7-%D8%A7%D9%84%D8%B1%D9%8A%D8%A7%D8%B6-%D9%88%D9%84%D9%8A%D8%B3-%D9%85%D9%86%D8%B5%D9%91%D8%A9-x\" />\\n<meta name=\"twitter:image:height\" content=\"386\" />\\n<meta name=\"twitter:image:width\" content=\"685\" />\\n<meta name=\"twitter:image\" content=\"https://www.alaraby.co.uk/sites/default/files/styles/meduim_16_9/public/1775488362.jpeg?h=19ef886c&amp;itok=beXkL03A\" />\\n<meta name=\"Generator\" content=\"Drupal 8 (https://www.drupal.org)\" />\\n<meta name=\"MobileOptimized\" content=\"width\" />\\n<meta name=\"HandheldFriendly\" content=\"true\" />\\n<meta name=\"viewport\" content=\"width=device-width, initial-scale=1, shrink-to-fit=no\" />\\n<script type=\"application/ld+json\">{\\n    \"@context\": \"https://schema.org\",\\n    \"@graph\": [\\n        {\\n            \"@type\": \"NewsArticle\",\\n            \"headline\": \"لماذا الرياض وليس \\\\u0022منصّة x\\\\u0022؟\",\\n            \"name\": \"لماذا الرياض وليس \\\\u0022منصّة x\\\\u0022؟\",\\n            \"description\": \"جاءت بعض الخطابات في قمة الرياض أشبه بتغريدات منصة إكس أو \\\\u0022فيسبوك\\\\u0022 بعد أسرلتها \\\\u0022حرفيا\\\\u0022. تعتمد كثير من خطابات الساسة العرب إلى شعوبهم على محدد \\\\u0022معرفة الدولة\\\\u0022 ما لا يعرفه غيرها، سواء كانوا من المعارضين، أو عوامّ الناس ممن لا يعرفون شيئا على الإطلاق.\",\\n            \"image\": {\\n                \"@type\": \"ImageObject\",\\n                \"representativeOfPage\": \"True\",\\n                \"url\": \"https://www.alaraby.co.uk/sites/default/files/styles/meduim_16_9/public/1775488362.jpeg?h=19ef886c\\\\u0026itok=beXkL03A\",\\n                \"width\": \"1200\",\\n                \"height\": \"675\"\\n            },\\n            \"datePublished\": \"2023-11-14T02:18:39+0200\",\\n            \"dateModified\": \"2023-11-14T02:18:39+0200\",\\n            \"isAccessibleForFree\": \"True\",\\n            \"author\": {\\n                \"@type\": \"Person\",\\n                \"name\": \"محمد طلبة رضوان\",\\n                \"url\": \"https://www.alaraby.co.uk/taxonomy/term/15107\",\\n                \"sameAs\": []\\n            },\\n            \"publisher\": {\\n                \"@type\": \"Organization\",\\n                \"name\": \"العربي الجديد\",\\n                \"sameAs\": [\\n                    \"https://www.facebook.com/AlAraby.ar\",\\n                    \"https://twitter.com/alaraby_ar\",\\n                    \"https://www.instagram.com/alaraby_ar\",\\n                    \"https://www.youtube.com/channel/UCQ2BzTiRUbL3z4K22dTB5dg\"\\n                ],\\n                \"logo\": {\\n                    \"@type\": \"ImageObject\",\\n                    \"representativeOfPage\": \"True\",\\n                    \"url\": \"https://www.alaraby.co.uk/themes/custom/alaraby/logo.png\"\\n                },\\n                \"alternateName\": \"AlAraby AlJadeed\"\\n            },\\n            \"mainEntityOfPage\": \"https://www.alaraby.co.uk/opinion/%D9%84%D9%85%D8%A7%D8%B0%D8%A7-%D8%A7%D9%84%D8%B1%D9%8A%D8%A7%D8%B6-%D9%88%D9%84%D9%8A%D8%B3-%D9%85%D9%86%D8%B5%D9%91%D8%A9-x\"\\n        }\\n    ]\\n}</script>\\n<meta http-equiv=\"x-ua-compatible\" content=\"ie=edge\" />\\n<link rel=\"icon\" href=\"/themes/custom/alaraby/fav.ico\" type=\"image/x-icon\" />\\n<link rel=\"shortcut icon\" href=\"/themes/custom/alaraby/fav.ico\" type=\"image/x-icon\" />\\n<link rel=\"apple-touch-startup-image\" href=\"/themes/custom/alaraby/images/startup.jpg\" />\\n<link rel=\"schema.dc\" href=\"http://purl.org/dc/elements/1.1/\" />\\n<link rel=\"schema.dcterms\" href=\"http://purl.org/dc/terms/\" />\\n<link rel=\"apple-touch-icon\" href=\"/themes/custom/alaraby/images/touch-icon-ipad.jpg\" />\\n<meta name=\"msvalidate.01\" content=\"AAF1C6177FBDD3FF8AFF757585845C8A\" />\\n<meta name=\"twitter:domain\" content=\"https://www.alaraby.co.uk\" />\\n<meta http-equiv=\"content-script-type\" content=\"text/javascript\" />\\n<link rel=\"copyright\" href=\"https://www.alaraby.co.uk/termofservice\" title=\"اتفاقية استخدام الموقع\" />\\n<link rel=\"alternate\" type=\"application/rss+xml\" title=\"العربي الجديد\" href=\"https://www.alaraby.co.uk/rss\" />\\n<meta property=\"og:title\" content=\"لماذا الرياض وليس &quot;منصّة x&quot;؟\" />\\n<link rel=\"shortcut icon\" href=\"/themes/custom/alaraby/fav.ico\" type=\"image/vnd.microsoft.icon\" />\\n<link rel=\"alternate\" hreflang=\"ar\" href=\"https://www.alaraby.co.uk/opinion/%D9%84%D9%85%D8%A7%D8%B0%D8%A7-%D8%A7%D9%84%D8%B1%D9%8A%D8%A7%D8%B6-%D9%88%D9%84%D9%8A%D8%B3-%D9%85%D9%86%D8%B5%D9%91%D8%A9-x\" />\\n<link rel=\"revision\" href=\"https://www.alaraby.co.uk/opinion/%D9%84%D9%85%D8%A7%D8%B0%D8%A7-%D8%A7%D9%84%D8%B1%D9%8A%D8%A7%D8%B6-%D9%88%D9%84%D9%8A%D8%B3-%D9%85%D9%86%D8%B5%D9%91%D8%A9-x\" />\\n<link rel=\"amphtml\" href=\"https://www.alaraby.co.uk/opinion/%D9%84%D9%85%D8%A7%D8%B0%D8%A7-%D8%A7%D9%84%D8%B1%D9%8A%D8%A7%D8%B6-%D9%88%D9%84%D9%8A%D8%B3-%D9%85%D9%86%D8%B5%D9%91%D8%A9-x?amp\" />\\n<script>window.a2a_config=window.a2a_config||{};a2a_config.callbacks=[];a2a_config.overlays=[];a2a_config.templates={};a2a_config.templates.twitter = {\\r\\n    text: \"${title}  ${link} via @Alaraby_ar\",\\r\\n    related: \"AddToAny,Twitter\"\\r\\n};\\r\\nif (7539513) {\\r\\n    a2a_config.track_links = \\'custom\\';\\r\\n    a2a_config.track_links_key = \\'https://edgs.co/rf31n\\';\\r\\n}</script>\\n\\n        <title>لماذا الرياض وليس &quot;منصّة x&quot;؟</title>\\n                                                                \\n        <link rel=\"stylesheet preload\" href=\"/themes/custom/alaraby/css/fonts.css\" as=\"style\">\\n        <link rel=\"stylesheet preload\" href=\"/themes/custom/alaraby/css/all.css\" as=\"style\">\\n        <link rel=\"alternate\" type=\"application/rss+xml\" title=\"العربي الجديد RSS Feed\" href=\"https://www.alaraby.co.uk/feeds\" />\\n        <link rel=\"stylesheet\" media=\"all\" href=\"/sites/default/files/css/css_zkxC8wKYaZj3OVuaKNcFlICV4rCOfFmzyao_iEIS7EQ.css\" />\\n<link rel=\"stylesheet\" media=\"all\" href=\"/sites/default/files/css/css_P8kGHreIbXRhoZpl6YyCTV3-NxNulx-rlVAhyMuE118.css\" />\\n<link rel=\"stylesheet\" media=\"all\" href=\"/sites/default/files/css/css_0f0cAHiMxMMck5G_sS-XaOU51W1au_qIK9QWEGQoYAA.css\" />\\n<link rel=\"stylesheet\" media=\"all\" href=\"/sites/default/files/css/css_ejDYlMjLAhVM9tD0xPsxT1rH7SqosrkyUtM79YgFwxo.css\" />\\n<link rel=\"stylesheet\" media=\"all\" href=\"/sites/default/files/css/css_Ab5iwF8vVLxgoQ8xnyuSX5x8TMbAPkeZBLXhIkIdE1o.css\" />\\n<link rel=\"stylesheet\" media=\"all\" href=\"//fonts.googleapis.com/icon?family=Material+Icons\" />\\n<link rel=\"stylesheet\" media=\"all\" href=\"/sites/default/files/css/css_aWfrP1ieQZclCbFjYE7NPFZFaAaRGoRk-QtakYPkksA.css\" />\\n<link rel=\"stylesheet\" media=\"print\" href=\"/sites/default/files/css/css_kGdid2AhF_KdvBJ6HR8ggI9ib9rspYawgbPKgo6Jglo.css\" />\\n<link rel=\"stylesheet\" media=\"all\" href=\"/sites/default/files/css/css_2sM_b96Chb2cdH8xffERuLvvStzSXmsFVaIs62_7M6M.css\" />\\n<link rel=\"stylesheet\" media=\"all\" href=\"//www.riddle.com/embed/files/css/embed.css\" />\\n\\n            \\n<!--[if lte IE 8]>\\n<script src=\"/sites/default/files/js/js_VtafjXmRvoUgAzqzYTA3Wrjkx9wcWhjP0G4ZnnqRamA.js\" rel=\"preload\"></script>\\n<![endif]-->\\n<script src=\"/sites/default/files/js/js_0dLkfIDvGLCpiSz6WClbaPA6BRFOu3KP5-jhJuGv24E.js\" rel=\"preload\"></script>\\n\\n                \\n                     <script>\\n                window.dataLayer = window.dataLayer || [];\\n                dataLayer.push({\\n                    \\'author\\': \\'محمد طلبة رضوان\\',\\n                    \\'section\\': \\'articles\\',\\n                    \\'subsection\\': \\'columns\\',\\n                    \\'location\\' : \\'\\',\\n                    \\'datePublish\\' : \\'2023-11-14\\',\\n                });\\n            </script>\\n         \\n         \\n        <!-- Google Tag Manager -->\\n\\n        <script>(function (w, d, s, l, i) {\\n                w[l] = w[l] || [];\\n                w[l].push({\\'gtm.start\\':\\n                            new Date().getTime(), event: \\'gtm.js\\'});\\n                var f = d.getElementsByTagName(s)[0],\\n                        j = d.createElement(s), dl = l != \\'dataLayer\\' ? \\'&l=\\' + l : \\'\\';\\n                j.async = true;\\n                j.src =\\n                        \\'https://www.googletagmanager.com/gtm.js?id=\\' + i + dl;\\n                f.parentNode.insertBefore(j, f);\\n            })(window, document, \\'script\\', \\'dataLayer\\', \\'GTM-PN4RFW\\');</script>\\n        <!-- End Google Tag Manager -->\\n\\n        <meta property=\"fb:pages\" content=\"984232048292061\" />\\n        <script async src=\\'https://securepubads.g.doubleclick.net/tag/js/gpt.js\\'></script>\\n    </head>\\n    <body class=\"articles node-content-articles page-user-login layout-no-sidebars has-featured-top page-node-7539513 detailed-article-page path-node node--type-articles\">\\n        <!-- Google Tag Manager (noscript) -->\\n        <noscript><iframe src=\"https://www.googletagmanager.com/ns.html?id=GTM-PN4RFW\" height=\"0\" width=\"0\" style=\"display:none;visibility:hidden\"></iframe></noscript>\\n        <!-- End Google Tag Manager (noscript) -->\\n        <a href=\"#main-content\" class=\"visually-hidden focusable skip-link\">\\n            Skip to main content\\n        </a>\\n        \\n          <div class=\"dialog-off-canvas-main-canvas\" data-off-canvas-main-canvas>\\n    <div id=\"page-wrapper\">\\n  <div id=\"page\">\\n    <header id=\"header\" class=\"header\" role=\"banner\" aria-label=\"Site header\">\\n                <div class=\"bg-theme text-white h1 w-100 d-none align-items-center justify-content-center p-3\">\\n        نسخة تجريبية\\n    </div>\\n\\n    <div class=\"top-menu\">\\n          <section class=\"row region region-top-header\">\\n    <nav role=\"navigation\" aria-labelledby=\"block-logosheadermenu-menu\" id=\"block-logosheadermenu\" class=\"block block-menu navigation menu--top-menu\">\\n      \\n  <span id=\"block-logosheadermenu-menu\">مواقع أخرى:</span>\\n  \\n\\n        \\n              <ul class=\"clearfix nav\">\\n                    <li class=\"nav-item\">\\n                <a href=\"/%D8%AA%D8%B3%D9%84%D9%8A%D8%A9-%D8%A3%D9%84%D8%B9%D8%A7%D8%A8-%D9%85%D8%B3%D8%A7%D8%A8%D9%82%D8%A7%D8%AA\" class=\"nav-link games-and-comp nav-link--d8aad8b3d984d98ad8a9-d8a3d984d8b9d8a7d8a8-d985d8b3d8a7d8a8d982d8a7d8aa\">ألعاب ومسابقات</a>\\n              </li>\\n                <li class=\"nav-item\">\\n                <a href=\"https://diffah.alaraby.co.uk/diffah\" class=\"nav-link nav-link-https--diffahalarabycouk-diffah\" target=\"_blank\">ضفة الثالثة</a>\\n              </li>\\n                <li class=\"nav-item\">\\n                <a href=\"https://www.newarab.com/\" class=\"nav-link nav-link-https--englishalarabycouk-english nav-link-https--wwwnewarabcom-\" target=\"_blank\">The New arab</a>\\n              </li>\\n                <li class=\"nav-item\">\\n                <a href=\"/printedarchive\" class=\"nav-link nav-link--printedarchive\">النسخة الورقية</a>\\n              </li>\\n        </ul>\\n  \\n\\n\\n  </nav>\\n\\n  </section>\\n\\n    </div>\\n\\n    <div class=\"container\">\\n\\n        <nav>\\n            <div class=\"middle-menu\">\\n                <div class=\"container-fluid\">\\n                    <div class=\"row\">\\n                        <i class=\"col fa fa-bars  show-related text-right responsive-mega-bars\" data-related=\"block-mega-main-menu\"></i>\\n                        <div class=\"right col-7\">\\n                              <section class=\"row region region-header-middle-right\">\\n          <a href=\"/\" title=\"الرئيسية\" rel=\"home\" class=\"navbar-brand\">\\n              <img src=\"/themes/custom/alaraby/logo.png\" alt=\"الرئيسية\" class=\"img-fluid d-inline-block align-top\" />\\n            \\n    </a>\\n    \\n  </section>\\n\\n                        </div>\\n                        <div class=\"left col  d-flex align-items-center justify-content-end header-serch\"  >\\n\\n                                                                                      <section class=\"row region region-header-bottom-search\">\\n    <div id=\"block-weatherheaderwidgetblock\" class=\"block block-\">\\n  \\n    \\n      <div class=\"content\">\\n      <div class=\"weather-widget-block\"></div>\\n    </div>\\n  </div>\\n<div class=\"views-exposed-form block block-views block-views-exposed-filter-blocksearch-2-content-search-page\" data-drupal-selector=\"views-exposed-form-search-2-content-search-page\" id=\"block-exposedformsearch-2content-search-page\">\\n  \\n      <h2>نتائج البحث</h2>\\n    \\n      <div class=\"content\">\\n      \\n<form action=\"/search\" method=\"get\" id=\"views-exposed-form-search-2-content-search-page\" accept-charset=\"UTF-8\">\\n  <div class=\"form-row\">\\n  \\n\\n\\n\\n  <fieldset class=\"js-form-item js-form-type-textfield form-type-textfield js-form-item-search-api-fulltext form-item-search-api-fulltext form-group\">\\n          <label for=\"edit-search-api-fulltext\">بحث:</label>\\n                    <input placeholder=\"كلمة البحث\" data-drupal-selector=\"edit-search-api-fulltext\" type=\"text\" id=\"edit-search-api-fulltext\" name=\"search_api_fulltext\" value=\"\" size=\"30\" maxlength=\"128\" class=\"form-text form-control\" />\\n\\n                      </fieldset>\\n\\n\\n\\n\\n  <fieldset class=\"js-form-item js-form-type-textfield form-type-textfield js-form-item-field-publish-date-min form-item-field-publish-date-min form-group\">\\n          <label for=\"edit-field-publish-date-min\">Publish date</label>\\n                    <input data-drupal-selector=\"edit-field-publish-date-min\" type=\"text\" id=\"edit-field-publish-date-min\" name=\"field_publish_date[min]\" value=\"\" size=\"30\" maxlength=\"128\" class=\"form-text form-control\" />\\n\\n                      </fieldset>\\n\\n\\n\\n\\n  <fieldset class=\"js-form-item js-form-type-textfield form-type-textfield js-form-item-field-publish-date-max form-item-field-publish-date-max form-group\">\\n          <label for=\"edit-field-publish-date-max\">And</label>\\n                    <input data-drupal-selector=\"edit-field-publish-date-max\" type=\"text\" id=\"edit-field-publish-date-max\" name=\"field_publish_date[max]\" value=\"\" size=\"30\" maxlength=\"128\" class=\"form-text form-control\" />\\n\\n                      </fieldset>\\n\\n\\n\\n\\n  <fieldset class=\"js-form-item js-form-type-select form-type-select js-form-item-sort-by form-item-sort-by form-group\">\\n          <label for=\"edit-sort-by\">فرز</label>\\n                    \\n<select data-drupal-selector=\"edit-sort-by\" id=\"edit-sort-by\" name=\"sort_by\" class=\"form-select form-control\"><option value=\"aggregated_field\" selected=\"selected\">تاريخ النشر</option><option value=\"search_api_relevance\">ذات صلة</option></select>\\n                      </fieldset>\\n<div data-drupal-selector=\"edit-actions\" class=\"form-actions js-form-wrapper form-group\" id=\"edit-actions\"><button data-drupal-selector=\"edit-submit-search-2\" type=\"submit\" id=\"edit-submit-search-2\" value=\"ابحث\" class=\"button js-form-submit form-submit btn btn-primary\">ابحث</button>\\n</div>\\n\\n</div>\\n\\n</form>\\n\\n    </div>\\n  </div>\\n\\n  </section>\\n\\n\\n                              <div  class=\"live-stream-mobile\">\\n                                <a href=\"https://www.youtube.com/channel/UC65i3Fyq91uiUkIS0i5GLNQ/live\" target=\"_blank\" class=\"alarabytv\">\\n                                    <span class=\"alaraby-logo\">\\n                                        <img src=\"/themes/custom/alaraby/images/alarabytv.svg\" alt=\"Al Araby TV\" width=\"26\">\\n                                        <span>مباشر</span>\\n                                        <img src=\"/themes/custom/alaraby/images/live-stream.svg\" alt=\"Al Araby Al Jadeed\" width=\"14\">\\n                                    </span>\\n                                </a>\\n                            </div>\\n\\n                        </div>\\n                    </div>\\n                </div>\\n            </div>\\n            <div class=\"bottom-search \" id=\"search-box\">\\n                <div class=\"container-fluid\">\\n                    <div class=\"row\">\\n                        <div class=\"col\">\\n                              <section class=\"row region region-header-bottom-search\">\\n    <div id=\"block-weatherheaderwidgetblock\" class=\"block block-\">\\n  \\n    \\n      <div class=\"content\">\\n      <div class=\"weather-widget-block\"></div>\\n    </div>\\n  </div>\\n<div class=\"views-exposed-form block block-views block-views-exposed-filter-blocksearch-2-content-search-page\" data-drupal-selector=\"views-exposed-form-search-2-content-search-page\" id=\"block-exposedformsearch-2content-search-page\">\\n  \\n      <h2>نتائج البحث</h2>\\n    \\n      <div class=\"content\">\\n      \\n<form action=\"/search\" method=\"get\" id=\"views-exposed-form-search-2-content-search-page\" accept-charset=\"UTF-8\">\\n  <div class=\"form-row\">\\n  \\n\\n\\n\\n  <fieldset class=\"js-form-item js-form-type-textfield form-type-textfield js-form-item-search-api-fulltext form-item-search-api-fulltext form-group\">\\n          <label for=\"edit-search-api-fulltext\">بحث:</label>\\n                    <input placeholder=\"كلمة البحث\" data-drupal-selector=\"edit-search-api-fulltext\" type=\"text\" id=\"edit-search-api-fulltext\" name=\"search_api_fulltext\" value=\"\" size=\"30\" maxlength=\"128\" class=\"form-text form-control\" />\\n\\n                      </fieldset>\\n\\n\\n\\n\\n  <fieldset class=\"js-form-item js-form-type-textfield form-type-textfield js-form-item-field-publish-date-min form-item-field-publish-date-min form-group\">\\n          <label for=\"edit-field-publish-date-min\">Publish date</label>\\n                    <input data-drupal-selector=\"edit-field-publish-date-min\" type=\"text\" id=\"edit-field-publish-date-min\" name=\"field_publish_date[min]\" value=\"\" size=\"30\" maxlength=\"128\" class=\"form-text form-control\" />\\n\\n                      </fieldset>\\n\\n\\n\\n\\n  <fieldset class=\"js-form-item js-form-type-textfield form-type-textfield js-form-item-field-publish-date-max form-item-field-publish-date-max form-group\">\\n          <label for=\"edit-field-publish-date-max\">And</label>\\n                    <input data-drupal-selector=\"edit-field-publish-date-max\" type=\"text\" id=\"edit-field-publish-date-max\" name=\"field_publish_date[max]\" value=\"\" size=\"30\" maxlength=\"128\" class=\"form-text form-control\" />\\n\\n                      </fieldset>\\n\\n\\n\\n\\n  <fieldset class=\"js-form-item js-form-type-select form-type-select js-form-item-sort-by form-item-sort-by form-group\">\\n          <label for=\"edit-sort-by\">فرز</label>\\n                    \\n<select data-drupal-selector=\"edit-sort-by\" id=\"edit-sort-by\" name=\"sort_by\" class=\"form-select form-control\"><option value=\"aggregated_field\" selected=\"selected\">تاريخ النشر</option><option value=\"search_api_relevance\">ذات صلة</option></select>\\n                      </fieldset>\\n<div data-drupal-selector=\"edit-actions\" class=\"form-actions js-form-wrapper form-group\" id=\"edit-actions\"><button data-drupal-selector=\"edit-submit-search-2\" type=\"submit\" id=\"edit-submit-search-2\" value=\"ابحث\" class=\"button js-form-submit form-submit btn btn-primary\">ابحث</button>\\n</div>\\n\\n</div>\\n\\n</form>\\n\\n    </div>\\n  </div>\\n\\n  </section>\\n\\n                        </div>\\n                    </div>\\n                </div>\\n            </div>\\n            <div class=\"bottom-menu\">\\n                <div class=\"main-menu-wrapper\">\\n                    <div class=\"container-fluid\">\\n                        <div class=\"row m-0\">\\n                            <div class=\"right col\" id=\"main-menu\">\\n                                <span class=\"hidden-logo\">\\n                                    <a href=\"/\"  title=\"Al Araby Al Jadeed\">\\n                                        <img src=\"/themes/custom/alaraby/images/logo-small.svg\" alt=\"Al Araby Al Jadeed\" width=\"35\"/>\\n                                    </a>\\n                                </span>\\n                                  <section class=\"row region region-header-bottom-right\">\\n    <i class=\"fa fa-bars  show-related\"  data-related=\"block-mega-main-menu\" ></i>\\n<div id=\"block-alaraby-main-menu\" class=\"block block-system block-system-menu-blockmain\">\\n  \\n    \\n  \\n    <div class=\"content\">\\n   \\n      \\n              <ul block=\"block-alaraby-main-menu\" class=\"clearfix nav navbar-nav\">\\n                    <li class=\"nav-item menu-item--collapsed\">\\n                          <a href=\"/news\" class=\"nav-link\">أخبار</a>\\n              </li>\\n                <li class=\"nav-item menu-item--collapsed\">\\n                          <a href=\"/politics\" class=\"nav-link\">سياسة</a>\\n              </li>\\n                <li class=\"nav-item menu-item--collapsed\">\\n                          <a href=\"/economy\" class=\"nav-link\">اقتصاد</a>\\n              </li>\\n                <li class=\"nav-item menu-item--collapsed\">\\n                          <a href=\"/opinion\" class=\"nav-link\">مقالات</a>\\n              </li>\\n                <li class=\"nav-item menu-item--collapsed\">\\n                          <a href=\"/investigations\" class=\"nav-link\">تحقيقات</a>\\n              </li>\\n                <li class=\"nav-item menu-item--collapsed\">\\n                          <a href=\"/sport\" class=\"nav-link\">رياضة</a>\\n              </li>\\n                <li class=\"nav-item menu-item--collapsed\">\\n                          <a href=\"/culture\" class=\"nav-link\">ثقافة</a>\\n              </li>\\n                <li class=\"nav-item menu-item--collapsed\">\\n                          <a href=\"/society\" class=\"nav-link\">مجتمع</a>\\n              </li>\\n                <li class=\"nav-item menu-item--collapsed\">\\n                          <a href=\"/entertainment_media\" class=\"nav-link\">منوعات</a>\\n              </li>\\n                <li class=\"nav-item menu-item--collapsed\">\\n                          <a href=\"/maraya\" class=\"nav-link hide-amp\">مرايا</a>\\n              </li>\\n                <li class=\"nav-item\">\\n                          <a href=\"/podcast\" class=\"nav-link hide-amp\">بودكاست</a>\\n              </li>\\n        </ul>\\n  \\n\\n\\n    </div>\\n  </div>\\n\\n  </section>\\n\\n\\n                                 <div  class=\"header-live-stream\">\\n                                    <a href=\"https://www.youtube.com/channel/UC65i3Fyq91uiUkIS0i5GLNQ/live\" target=\"_blank\" class=\"alarabytv\">\\n                                        <span class=\"alarabylogo\">\\n                                            <img src=\"/themes/custom/alaraby/images/alarabytv.svg\" alt=\"Al Araby TV\" width=\"35\">\\n                                            <span> البث المباشر </span>\\n                                        </span>\\n                                        <img src=\"/themes/custom/alaraby/images/live-stream.svg\" alt=\"Al Araby Al Jadeed\" width=\"20\">\\n                                    </a>\\n                                </div>\\n\\n                            </div>\\n\\n                        </div>\\n                    </div>\\n                    <div class=\"container\" id=\"mega-menu\">\\n                        <div class=\"row\">\\n                            <div class=\" col-md-12 \">\\n                                  <section class=\"row region region-header-bottom-mega-menu\">\\n    <nav role=\"navigation\" aria-labelledby=\"block-mega-main-menu-menu\" id=\"block-mega-main-menu\" class=\"block block-menu navigation menu--main\">\\n            \\n  <span class=\"sr-only\" id=\"block-mega-main-menu-menu\">Main navigation</span>\\n  \\n\\n        \\n              <ul block=\"block-mega-main-menu\" class=\"clearfix nav navbar-nav\">\\n                    <li class=\"nav-item menu-item--expanded dropdown\">\\n                          <a href=\"/news\" class=\"nav-link\" data-toggle=\"dropdown\" aria-expanded=\"false\" aria-haspopup=\"true\">أخبار</a>\\n                        <ul>\\n                    <li class=\"dropdown-item\">\\n                          <a href=\"/news/egypt\">مصر</a>\\n              </li>\\n                <li class=\"dropdown-item\">\\n                          <a href=\"/news/syria\">سورية</a>\\n              </li>\\n                <li class=\"dropdown-item\">\\n                          <a href=\"/news/palestine\">فلسطين</a>\\n              </li>\\n                <li class=\"dropdown-item\">\\n                          <a href=\"/news/gulf\">الخليج</a>\\n              </li>\\n                <li class=\"dropdown-item\">\\n                          <a href=\"/news/iraq\">العراق</a>\\n              </li>\\n                <li class=\"dropdown-item\">\\n                          <a href=\"/news/arab\">عربي</a>\\n              </li>\\n                <li class=\"dropdown-item\">\\n                          <a href=\"/news/world\">دولي</a>\\n              </li>\\n                <li class=\"dropdown-item\">\\n                          <a href=\"/news/breaking\">أخبار عاجلة</a>\\n              </li>\\n        </ul>\\n  \\n          <i class=\"fas fa-chevron-down open-sub-menu\"></i>\\n              </li>\\n                <li class=\"nav-item menu-item--expanded dropdown\">\\n                          <a href=\"/politics\" class=\"nav-link\" data-toggle=\"dropdown\" aria-expanded=\"false\" aria-haspopup=\"true\">سياسة</a>\\n                        <ul>\\n                    <li class=\"dropdown-item\">\\n                          <a href=\"/politics/reports-ar\">تقارير عربية</a>\\n              </li>\\n                <li class=\"dropdown-item\">\\n                          <a href=\"/politics/reports-int\">تقارير دولية</a>\\n              </li>\\n                <li class=\"dropdown-item\">\\n                          <a href=\"/politics/analysis\">تحليلات</a>\\n              </li>\\n                <li class=\"dropdown-item\">\\n                          <a href=\"/politics/observation\">رصد</a>\\n              </li>\\n                <li class=\"dropdown-item\">\\n                          <a href=\"/politics/guests\">مقابلات</a>\\n              </li>\\n                <li class=\"dropdown-item\">\\n                          <a href=\"/politics/profiles\">سيرة سياسية</a>\\n              </li>\\n                <li class=\"dropdown-item\">\\n                          <a href=\"/politics/pal_supplement\">ملحق فلسطين</a>\\n              </li>\\n        </ul>\\n  \\n          <i class=\"fas fa-chevron-down open-sub-menu\"></i>\\n              </li>\\n                <li class=\"nav-item menu-item--expanded dropdown\">\\n                          <a href=\"/economy\" class=\"nav-link\" data-toggle=\"dropdown\" aria-expanded=\"false\" aria-haspopup=\"true\">اقتصاد</a>\\n                        <ul>\\n                    <li class=\"dropdown-item\">\\n                          <a href=\"/economy/markets\">أسواق</a>\\n              </li>\\n                <li class=\"dropdown-item\">\\n                          <a href=\"/economy/economic_perspectives\">اقتصاد الناس</a>\\n              </li>\\n                <li class=\"dropdown-item\">\\n                          <a href=\"/economy/arabeconomy\">اقتصاد عربي</a>\\n              </li>\\n                <li class=\"dropdown-item\">\\n                          <a href=\"/economy/globaleconomy\">اقتصاد دولي</a>\\n              </li>\\n                <li class=\"dropdown-item\">\\n                          <a href=\"/economy/energysources\">طاقة</a>\\n              </li>\\n                <li class=\"dropdown-item\">\\n                          <a href=\"/economy/travel\">سياحة وسفر</a>\\n              </li>\\n                <li class=\"dropdown-item\">\\n                          <a href=\"/economy/cars\">سيارات</a>\\n              </li>\\n        </ul>\\n  \\n          <i class=\"fas fa-chevron-down open-sub-menu\"></i>\\n              </li>\\n                <li class=\"nav-item menu-item--expanded dropdown\">\\n                          <a href=\"/opinion\" class=\"nav-link\" data-toggle=\"dropdown\" aria-expanded=\"false\" aria-haspopup=\"true\">مقالات</a>\\n                        <ul>\\n                    <li class=\"dropdown-item\">\\n                          <a href=\"/opinion/commentsandfeedback\">آراء</a>\\n              </li>\\n                <li class=\"dropdown-item\">\\n                          <a href=\"/opinion/columns\">زوايا</a>\\n              </li>\\n                <li class=\"dropdown-item\">\\n                          <a href=\"/opinion/issues\">قضايا</a>\\n              </li>\\n                <li class=\"dropdown-item\">\\n                          <a href=\"/opinion/perspectives\">مواقف</a>\\n              </li>\\n                <li class=\"dropdown-item\">\\n                          <a href=\"/opinion/caricature\" class=\"hide-amp\">كاريكاتير</a>\\n              </li>\\n        </ul>\\n  \\n          <i class=\"fas fa-chevron-down open-sub-menu\"></i>\\n              </li>\\n                <li class=\"nav-item menu-item--expanded dropdown\">\\n                          <a href=\"/investigations\" class=\"nav-link\" data-toggle=\"dropdown\" aria-expanded=\"false\" aria-haspopup=\"true\">تحقيقات</a>\\n                        <ul>\\n                    <li class=\"dropdown-item\">\\n                          <a href=\"/investigations/Special_investigations\">تحقيق\\u200b</a>\\n              </li>\\n                <li class=\"dropdown-item\">\\n                          <a href=\"/investigations/Multimedia\">تحقيق متعدّد الوسائط</a>\\n              </li>\\n                <li class=\"dropdown-item\">\\n                          <a href=\"/investigations/Spotlight\">تحت المجهر</a>\\n              </li>\\n        </ul>\\n  \\n          <i class=\"fas fa-chevron-down open-sub-menu\"></i>\\n              </li>\\n                <li class=\"nav-item menu-item--expanded dropdown\">\\n                          <a href=\"/sport\" class=\"nav-link\" data-toggle=\"dropdown\" aria-expanded=\"false\" aria-haspopup=\"true\">رياضة</a>\\n                        <ul>\\n                    <li class=\"dropdown-item\">\\n                          <a href=\"/sport/arabfootball\">كرة عربية</a>\\n              </li>\\n                <li class=\"dropdown-item\">\\n                          <a href=\"/sport/worldfootball\">كرة عالمية</a>\\n              </li>\\n                <li class=\"dropdown-item\">\\n                          <a href=\"/sport/mercato\">ميركاتو</a>\\n              </li>\\n                <li class=\"dropdown-item\">\\n                          <a href=\"/sport/othersports\">رياضات أخرى</a>\\n              </li>\\n                <li class=\"dropdown-item\">\\n                          <a href=\"/sport/awayfromgrounds\">بعيدا عن الملاعب</a>\\n              </li>\\n                <li class=\"dropdown-item\">\\n                          <a href=\"/world-cup-2022\">كأس العالم 2022</a>\\n              </li>\\n        </ul>\\n  \\n          <i class=\"fas fa-chevron-down open-sub-menu\"></i>\\n              </li>\\n                <li class=\"nav-item menu-item--expanded dropdown\">\\n                          <a href=\"/culture\" class=\"nav-link\" data-toggle=\"dropdown\" aria-expanded=\"false\" aria-haspopup=\"true\">ثقافة</a>\\n                        <ul>\\n                    <li class=\"dropdown-item\">\\n                          <a href=\"/culture/litreature-arts\">آداب وفنون</a>\\n              </li>\\n                <li class=\"dropdown-item\">\\n                          <a href=\"/culture/books\">كتب</a>\\n              </li>\\n                <li class=\"dropdown-item\">\\n                          <a href=\"/culture/culturalstops\">وقفات</a>\\n              </li>\\n                <li class=\"dropdown-item\">\\n                          <a href=\"/culture/texts\">نصوص</a>\\n              </li>\\n                <li class=\"dropdown-item\">\\n                          <a href=\"/culture/our-language-friends\">أصدقاء لغتنا</a>\\n              </li>\\n        </ul>\\n  \\n          <i class=\"fas fa-chevron-down open-sub-menu\"></i>\\n              </li>\\n                <li class=\"nav-item menu-item--expanded dropdown\">\\n                          <a href=\"/society\" class=\"nav-link\" data-toggle=\"dropdown\" aria-expanded=\"false\" aria-haspopup=\"true\">مجتمع</a>\\n                        <ul>\\n                    <li class=\"dropdown-item\">\\n                          <a href=\"/society/cases-and-people\">قضايا وناس</a>\\n              </li>\\n                <li class=\"dropdown-item\">\\n                          <a href=\"/society/women\">المرأة</a>\\n              </li>\\n                <li class=\"dropdown-item\">\\n                          <a href=\"/society/youth\">طلاب وشباب</a>\\n              </li>\\n                <li class=\"dropdown-item\">\\n                          <a href=\"/society/health-society\">صحة</a>\\n              </li>\\n                <li class=\"dropdown-item\">\\n                          <a href=\"/society/environment\">بيئة</a>\\n              </li>\\n                <li class=\"dropdown-item\">\\n                          <a href=\"/society/weather\" title=\"حالة الطقس\">حالة الطقس</a>\\n              </li>\\n                <li class=\"dropdown-item\">\\n                          <a href=\"/society/crime\">الجريمة والعقاب</a>\\n              </li>\\n                <li class=\"dropdown-item\">\\n                          <a href=\"/society/dispora\">لجوء واغتراب</a>\\n              </li>\\n                <li class=\"dropdown-item\">\\n                          <a href=\"/society/coronavirus\">كوفيد-19</a>\\n              </li>\\n        </ul>\\n  \\n          <i class=\"fas fa-chevron-down open-sub-menu\"></i>\\n              </li>\\n                <li class=\"nav-item menu-item--expanded dropdown\">\\n                          <a href=\"/entertainment_media\" class=\"nav-link\" data-toggle=\"dropdown\" aria-expanded=\"false\" aria-haspopup=\"true\">منوعات</a>\\n                        <ul>\\n                    <li class=\"dropdown-item\">\\n                          <a href=\"/entertainment_media/around-the-world\">حول العالم</a>\\n              </li>\\n                <li class=\"dropdown-item\">\\n                          <a href=\"/entertainment_media/pressfreedom\">إعلام وحريات</a>\\n              </li>\\n                <li class=\"dropdown-item\">\\n                          <a href=\"/entertainment_media/celebrities\">نجوم وفن</a>\\n              </li>\\n                <li class=\"dropdown-item\">\\n                          <a href=\"/entertainment_media/music\">موسيقى</a>\\n              </li>\\n                <li class=\"dropdown-item\">\\n                          <a href=\"/entertainment_media/cinema\">سينما ودراما</a>\\n              </li>\\n                <li class=\"dropdown-item\">\\n                          <a href=\"/entertainment_media/tweets\">سوشيال ميديا</a>\\n              </li>\\n                <li class=\"dropdown-item\">\\n                          <a href=\"/entertainment_media/archeology\">علوم وآثار</a>\\n              </li>\\n                <li class=\"dropdown-item\">\\n                          <a href=\"/opinion/blogs\">مدونات</a>\\n              </li>\\n        </ul>\\n  \\n          <i class=\"fas fa-chevron-down open-sub-menu\"></i>\\n              </li>\\n                <li class=\"nav-item menu-item--expanded dropdown\">\\n                          <a href=\"/maraya\" class=\"nav-link hide-amp\" data-toggle=\"dropdown\" aria-expanded=\"false\" aria-haspopup=\"true\">مرايا</a>\\n                        <ul>\\n                    <li class=\"dropdown-item\">\\n                          <a href=\"/video\">فيديو</a>\\n              </li>\\n                <li class=\"dropdown-item\">\\n                          <a href=\"/podcast\">بودكاست</a>\\n              </li>\\n                <li class=\"dropdown-item\">\\n                          <a href=\"/infograph-media\">إنفوغراف</a>\\n              </li>\\n                <li class=\"dropdown-item\">\\n                          <a href=\"/comics\">كوميكس</a>\\n              </li>\\n                <li class=\"dropdown-item\">\\n                          <a href=\"/interactive_stories\">قصص تفاعلية</a>\\n              </li>\\n                <li class=\"dropdown-item\">\\n                          <a href=\"/gallery\">ألبوم الصور</a>\\n              </li>\\n                <li class=\"dropdown-item\">\\n                          <a href=\"/%D8%AA%D8%B3%D9%84%D9%8A%D8%A9-%D8%A3%D9%84%D8%B9%D8%A7%D8%A8-%D9%85%D8%B3%D8%A7%D8%A8%D9%82%D8%A7%D8%AA\">ألعاب ومسابقات</a>\\n              </li>\\n        </ul>\\n  \\n          <i class=\"fas fa-chevron-down open-sub-menu\"></i>\\n              </li>\\n                <li class=\"nav-item\">\\n                          <a href=\"/podcast\" class=\"nav-link hide-amp\">بودكاست</a>\\n              </li>\\n        </ul>\\n  \\n\\n\\n  </nav>\\n<nav role=\"navigation\" aria-labelledby=\"block-topmenu-3-menu\" id=\"block-topmenu-3\" class=\"block block-menu navigation menu--top-menu\">\\n            \\n  <span class=\"sr-only\" id=\"block-topmenu-3-menu\">Top Menu</span>\\n  \\n\\n        \\n              <ul class=\"clearfix nav\">\\n                    <li class=\"nav-item\">\\n                <a href=\"/%D8%AA%D8%B3%D9%84%D9%8A%D8%A9-%D8%A3%D9%84%D8%B9%D8%A7%D8%A8-%D9%85%D8%B3%D8%A7%D8%A8%D9%82%D8%A7%D8%AA\" class=\"nav-link games-and-comp nav-link--d8aad8b3d984d98ad8a9-d8a3d984d8b9d8a7d8a8-d985d8b3d8a7d8a8d982d8a7d8aa\">ألعاب ومسابقات</a>\\n              </li>\\n                <li class=\"nav-item\">\\n                <a href=\"https://diffah.alaraby.co.uk/diffah\" class=\"nav-link nav-link-https--diffahalarabycouk-diffah\" target=\"_blank\">ضفة الثالثة</a>\\n              </li>\\n                <li class=\"nav-item\">\\n                <a href=\"https://www.newarab.com/\" class=\"nav-link nav-link-https--englishalarabycouk-english nav-link-https--wwwnewarabcom-\" target=\"_blank\">The New arab</a>\\n              </li>\\n                <li class=\"nav-item\">\\n                <a href=\"/printedarchive\" class=\"nav-link nav-link--printedarchive\">النسخة الورقية</a>\\n              </li>\\n        </ul>\\n  \\n\\n\\n  </nav>\\n\\n  </section>\\n\\n                            </div>\\n                        </div>\\n                    </div>\\n                </div>\\n            </div>\\n\\n                        <div class=\"breaking-news\">\\n                <div class=\"container\">\\n                    <div class=\"breaking-news-top\">\\n                          <section class=\"row region region-breaking-news\">\\n    \\n  </section>\\n\\n                    </div>\\n                </div>\\n            </div>\\n\\n                        <div class=\"header-top-ad\">\\n                <div class=\"container\">\\n                    <div class=\"header-ad-top\">\\n                        \\n                    </div>\\n                </div>\\n            </div>\\n\\n        </nav>\\n    </div>\\n      </header>\\n          <div class=\"highlighted\">\\n        <aside class=\"container section clearfix\" role=\"complementary\">\\n            <div data-drupal-messages-fallback class=\"hidden\"></div>\\n<nav role=\"navigation\" aria-labelledby=\"block-ramadanmenu-detailed-pages-menu\" id=\"block-ramadanmenu-detailed-pages\" class=\"block block-menu navigation menu--ramadan-menu\">\\n            \\n  <span class=\"sr-only\" id=\"block-ramadanmenu-detailed-pages-menu\">Ramadan menu</span>\\n  \\n\\n        \\n              <ul class=\"clearfix nav\">\\n                    <li class=\"nav-item\">\\n                <a href=\"/ramadan/traditions\" class=\"nav-link nav-link--ramadan-traditions\">عادات وتقاليد</a>\\n              </li>\\n                <li class=\"nav-item\">\\n                <a href=\"/ramadan/drama\" class=\"nav-link nav-link--ramadan-drama\">مسلسلات</a>\\n              </li>\\n                <li class=\"nav-item\">\\n                <a href=\"/ramadan/shopping-prices\" class=\"nav-link nav-link--ramadan-shopping-prices\">أسعار</a>\\n              </li>\\n                <li class=\"nav-item\">\\n                <a href=\"/ramadan/kitchen\" class=\"nav-link nav-link--ramadan-kitchen\">مطبخ</a>\\n              </li>\\n                <li class=\"nav-item\">\\n                <a href=\"/ramadan/podcast\" class=\"nav-link nav-link--ramadan-podcast\">بودكاست</a>\\n              </li>\\n                <li class=\"nav-item\">\\n                <a href=\"/ramadan/cocktails\" class=\"nav-link nav-link--ramadan-cocktails\">من هنا وهناك</a>\\n              </li>\\n                <li class=\"nav-item\">\\n                <a href=\"/ramadan/imsakeh2022/Jerusalem\" class=\"nav-link nav-link--ramadan-imsakeh2022-jerusalem\">إمساكية رمضان</a>\\n              </li>\\n                <li class=\"nav-item\">\\n                <a href=\"/ramadan/games_competitions\" class=\"nav-link nav-link--ramadan-games-competitions\">فزورة رمضان</a>\\n              </li>\\n        </ul>\\n  \\n\\n\\n  </nav>\\n\\n\\n        </aside>\\n      </div>\\n                      <div class=\"featured-top\">\\n          <aside class=\"featured-top__inner section container clearfix\" role=\"complementary\">\\n              <section class=\"row region region-featured-top\">\\n    <div class=\"block-ajax\">\\n  \\n  <div class=\"block-ajax-placeholder\"\\n       data-block-ajax-id=\"trending_now_block\"\\n       data-block-ajax-plugin-id=\"block_content:9d25f5c5-a53b-4d76-9ffa-7c21052935b6\"\\n       data-block-ajax-provider=\"block_content\"\\n       data-block-ajax-placeholder=\"\"\\n       data-block-ajax-show-spinner=\"0\">\\n  </div>\\n</div>\\n\\n  </section>\\n\\n          </aside>\\n        </div>\\n              <div id=\"main-wrapper\" class=\"layout-main-wrapper clearfix\">\\n        <div id=\"main\" class=\"container\">\\n      <div id=\"block-alaraby-breadcrumbs\" class=\"block block-system block-system-breadcrumb-block\">\\n  \\n    \\n      <div class=\"content\">\\n      \\n\\n  <nav role=\"navigation\" aria-label=\"breadcrumb\">\\n    <ol class=\"breadcrumb\">\\n                  <li class=\"breadcrumb-item\">\\n          <a href=\"/opinion\">مقالات</a>\\n        </li>\\n                        <li class=\"breadcrumb-item\">\\n          <a href=\"/opinion/columns\">زوايا</a>\\n        </li>\\n              </ol>\\n  </nav>\\n\\n    </div>\\n  </div>\\n\\n\\n    <div class=\"row-offcanvas row-offcanvas-left clearfix\">\\n      <main class=\"main-content col\" id=\"content\" role=\"main\">\\n        <section class=\"section\">\\n          <a id=\"main-content\" tabindex=\"-1\"></a>\\n            <div id=\"block-alaraby-page-title\" class=\"block block-core block-page-title-block\">\\n  \\n    \\n      <div class=\"content\">\\n      \\n  <h1 class=\"title\"><span class=\"field field--name-title field--type-string field--label-hidden\">لماذا الرياض وليس &quot;منصّة x&quot;؟</span>\\n</h1>\\n\\n\\n    </div>\\n  </div>\\n<div id=\"block-alaraby-content\" class=\"#block-alaraby-content &gt; .content block block-system block-system-main-block\">\\n  \\n    \\n      <div class=\"content\">\\n      <div class=\"row bs-2col-stacked node node--type-articles node--view-mode-full-content-not-clickable-author-\">\\n  \\n\\n    <div class=\"col-sm-12 bs-region bs-region--top\">\\n    \\n            <div class=\"field field--name-dynamic-block-fieldnode-leaderboard-ad-block field--type-ds field--label-hidden field__item\"><div class=\"custom-ad-block-item text-center leaderboard-ads\">\\n  <div class=\"ad-gpt-pro\" data-web=\"[970,90]\" data-tablet=\"[728, 90]\" data-mob=\"[320, 100]\">\\n    <div\\n      class=\"ad-gpt-pro-slot\"\\n      id=\"div-gpt-ad-leaderboard\"\\n      ad-sizes=\"[[970,90]]\"\\n      ad-custom-sizes=\"[[970,90]]\"\\n      ad-client-id-suffix=\"270638763/AAJ_Leaderboard\"\\n              position=\"1\"\\n                    page=\"details-page\"\\n                    section=\"opinion\"\\n            ad-agent=\"any\"\\n      ad-refresh=\"true\">\\n    </div>\\n  </div>\\n</div>\\n</div>\\n      \\n  </div>\\n  \\n    <div class=\"col-xs-12 col-sm-12 col-md-9 col-lg-9 col-xl-9 bs-region bs-region--left\">\\n    \\n            <div class=\"field field--name-node-title field--name-field-long-title field--type-string field--label-hidden field__item\"><h2>لماذا الرياض وليس &quot;منصّة x&quot;؟</h2></div>\\n      \\n<div  class=\"sub-section-author-date inline-content\">\\n      \\n            <div class=\"field field--name-field-sub-section field--type-entity-reference field--label-hidden field__item\"><a href=\"/taxonomy/term/38\" hreflang=\"ar\">زوايا</a></div>\\n      \\n            <div class=\"field field--name-field-author field--type-entity-reference field--label-hidden field__item\"><div class=\"row bs-1col taxonomy-term taxonomy-term--type-author taxonomy-term--view-mode-author-name-popup\">\\n  \\n  <div class=\"col-sm-12 bs-region bs-region--main\">\\n    \\n            <div class=\"field field--name-taxonomy-term-title field--type-ds field--label-hidden field__item\"><h2>\\n  <a href=\"/taxonomy/term/15107\" hreflang=\"ar\">محمد طلبة رضوان</a>\\n</h2>\\n</div>\\n      \\n<div  class=\"author-popup\">\\n      \\n<div  class=\"image-and-name\">\\n      \\n            <div class=\"field field--name-field-image field--type-entity-reference field--label-hidden field__item\"><div>\\n  \\n  \\n            <div data-blazy=\"\" class=\"blazy blazy--field blazy--field-media-image field field--name-field-media-image field--type-image field--label-hidden field__item\">\\n\\n\\n\\n                    <div class=\"media media--bundle--image media--blazy media--loading media--image\">\\n      \\n      \\n      \\n      <img alt=\"3FE3B96A-2A94-45F9-B896-FDC0381B3B7F\" title=\"3FE3B96A-2A94-45F9-B896-FDC0381B3B7F\" class=\"media__image media__element b-lazy\" loading=\"lazy\" data-src=\"/sites/default/files/styles/small_1_1/public/media/images/3FE3B96A-2A94-45F9-B896-FDC0381B3B7F.JPG?itok=FqXuLJMC\" src=\"/themes/custom/alaraby/DefaultImage.jpg\" width=\"200\" height=\"200\" typeof=\"foaf:Image\" />\\n\\n      \\n                  \\n      \\n\\n            \\n      \\n    </div>\\n        \\n  \\n  \\n\\n\\n</div>\\n      \\n    </div>\\n</div>\\n      \\n            <div class=\"field field--name-display-field-copytaxonomy-term-copy-of-author-name field--type-ds field--label-hidden field__item\">محمد طلبة رضوان</div>\\n      \\n  </div>\\n\\n<div  class=\"social-share-and-btn\">\\n          \\n                          <div  class=\"Not clickable\" >\\n        <a href=\"/taxonomy/term/15107\" hreflang=\"ar\">عرض التفاصيل</a>\\n</div>\\n      \\n  \\n\\n\\n  </div>\\n\\n  </div>\\n\\n  </div>\\n</div>\\n\\n</div>\\n      \\n  </div>\\n\\n<div  class=\"publish-date-and-AddToAny\">\\n      \\n            <div class=\"field field--name-field-publish-date field--type-datetime field--label-hidden field__item\">14 نوفمبر 2023</div>\\n      <span class=\"a2a_kit a2a_kit_size_32 addtoany_list\" data-a2a-url=\"https://www.alaraby.co.uk/opinion/%D9%84%D9%85%D8%A7%D8%B0%D8%A7-%D8%A7%D9%84%D8%B1%D9%8A%D8%A7%D8%B6-%D9%88%D9%84%D9%8A%D8%B3-%D9%85%D9%86%D8%B5%D9%91%D8%A9-x\" data-a2a-title=\"لماذا الرياض وليس &quot;منصّة x&quot;؟\"><a class=\"a2a_button_facebook\"></a><a class=\"a2a_button_x\"></a><a class=\"a2a_button_whatsapp\"></a><a class=\"a2a_dd addtoany_share\" href=\"https://www.addtoany.com/share#url=https%3A%2F%2Fwww.alaraby.co.uk%2Fopinion%2F%25D9%2584%25D9%2585%25D8%25A7%25D8%25B0%25D8%25A7-%25D8%25A7%25D9%2584%25D8%25B1%25D9%258A%25D8%25A7%25D8%25B6-%25D9%2588%25D9%2584%25D9%258A%25D8%25B3-%25D9%2585%25D9%2586%25D8%25B5%25D9%2591%25D8%25A9-x&amp;title=%D9%84%D9%85%D8%A7%D8%B0%D8%A7%20%D8%A7%D9%84%D8%B1%D9%8A%D8%A7%D8%B6%20%D9%88%D9%84%D9%8A%D8%B3%20%22%D9%85%D9%86%D8%B5%D9%91%D8%A9%20x%22%D8%9F\"></a></span>\\n  </div>\\n\\n      <div class=\"field field--name-field-media field--type-entity-reference field--label-hidden field__items\">\\n              <div class=\"field__item\"><div>\\n  \\n  \\n            <div class=\"field field--name-field-media-image field--type-image field--label-hidden field__item\">  <a href=\"https://www.alaraby.co.uk/sites/default/files/1775488362.jpeg\"><img src=\"/sites/default/files/styles/large_16_9/public/1775488362.jpeg?h=19ef886c&amp;itok=RY9EMlII\" width=\"1155\" height=\"650\" alt=\"\" typeof=\"foaf:Image\" class=\"image-style-large-16-9\" />\\n\\n</a>\\n</div>\\n      \\n    </div>\\n</div>\\n          </div>\\n  \\n            <div class=\"field field--name-field-image-caption field--type-string field--label-hidden field__item\"><p>مصافحات بين قادة مشاركين في القمة العربية الإسلامية في الرياض (11/11/2023 الأناضول)</p>\\n</div>\\n      \\n            <div class=\"field field--name-dynamic-block-fieldnode-text-resize field--type-ds field--label-hidden field__item\"><div id=\"text-resize\">\\n    <a href=\"javascript:void(0)\" class=\"changer\" id=\"text_resize_increase\">\\n        <sup>+</sup>\\n    </a>\\n    <span class=\"text-size-txt\"> الخط</span>\\n    <a href=\"javascript:void(0)\" class=\"changer\" id=\"text_resize_decrease\">\\n        <sup>-</sup>\\n    </a>\\n</div>\\n\\n</div>\\n      \\n            <div class=\"field field--name-dynamic-block-fieldnode-inread-ad-block field--type-ds field--label-hidden field__item\"><div class=\"custom-ad-block-item text-center inread-ads\">\\n  </div>\\n</div>\\n      \\n            <div class=\"clearfix text-formatted field field--name-body field--type-text-with-summary field--label-hidden field__item\"><p>دعت القاهرة إلى قمّة دولية للسلام في 21 الشهر الماضي (أكتوبر/ تشرين الأول)، وبعد 14 يوما من اندلاع الحرب في غزّة، وانتهت من دون نتيجة تقريبا. ثم دعت الرياض إلى قمّة أخرى، استثنائية، كما سموها، عربية، ثم صارت عربية إسلامية، ما دفع كثيرين إلى التفكير بالتمنّي، وتوقع شيء فارق، ومختلف، وحلّ سياسي حقيقي، يتناسب مع مكانة الرياض (ومشروعها). وارتفع سقف الاحتمالات ليتجاوز بروموهات كلمة أمين عام حزب الله، حسن نصر الله، الأولى (وشبيهتها الثانية). جاءت كلمات قادة وزعماء الدول العربية والإسلامية إنشائية، على تباين مستويات الإنشاء بحسب تفاوت أحجام الدول وطبيعة المتحدّثين، من دون اقتراح حلٍّ عمليٍّ واحد، أو مجرّد التلويح بفعل أو ردّ فعل ما، يعكس قيمة المجتمعين، ومدى تقديرهم الفاجعة وتداعياتها الكارثية وآثارها المستقبلية الحتمية عليهم جميعا.<br />\\nجاءت بعض الخطابات أشبه بتغريدات منصّة إكس، أو \"فيسبوك\" بعد أسرلتها \"حرفيا\"، فيما تجاوز بضعها الآخر، مشكورا، سقف المنصّة الإلكترونية إلى المداخلات التلفزيونية، حتى تشعر كأنك أمام \"حضور\" حسام زملط، أو \"حماس\" رحمة زين، أو \"قوّة\" محمّد حجاب، لكنك لا تشعر أبدًا أنك أمام جرأة سخرية باسم يوسف.&nbsp;<br />\\nتعتمد كثير من خطابات الساسة العرب إلى شعوبهم على محدّد \"معرفة الدولة\" ما لا يعرفه غيرها، سواء كانوا من المعارضين، الذين لا يملكون سوى المزايدات أو \"الكلام المرتّب\" على أقصى تقدير، لكنهم لا يدركون خطورة المنصب، وحجم المسؤولية، ومعنى الدولة، وتوازنات السياسة وإكراهاتها، ناهيك عن الشعوب، أو عوامّ الناس ممن لا يعرفون شيئا على الإطلاق، والأصلح لهم أن يستمتعوا بإنجازات أصحاب الفخامة وهم صمٌّ بكمٌ عُميٌّ حتى يرجعوا إلى بيوتهم.&nbsp;<br />\\nتتكرّر هذه السردية بصيغ مختلفة، بعضها ذكي ومراوغ، في خطابات الأذرع الإعلامية، وبعضها قصف مباشر في خطابات القادة أنفسهم. هكذا بوضوح، لا أريكم إلا ما أرى، ثم يأتي اختبارٌ حقيقي، مثل القضية الفلسطينية التي تخصّ كل عربي، من هؤلاء الذين لا يعرفون شيئا على الإطلاق، لكنهم يفوّضون قادتهم العارفين بالله وبالدولة، فإذا بنا أمام طبقةٍ أخرى من \"العوام\"، والمفوّضين أمرَهم إلى الولايات المتحدة... إدانات للعدوان الإسرائيلي على قطاع غزّة، وجرائم الحرب والمجازر الهمجية والوحشية واللا إنسانية، التي ترتكبها إسرائيل، ومطالبات لمجلس الأمن باتّخاذ قرار حاسم ملزم يفرض وقف العدوان ويكبح جماح سلطة الاحتلال الاستعماري التي تنتهك القانون الدولي، والإنساني، وقرارات الشرعية الدولية، ودعوات بوقف تصدير الأسلحة والذخائر إلى إسرائيل، الأمر الذي فاجأ كثيرين، ليس لأن دولا عربية ترسل أسلحة إلى قتلة الأطفال في فلسطين، فهذا متوقّع، ولكن لأن دولا عربية تتصوّر أو تريد أن تصوّر لشعوبها أن توقفها عن تصدير الأسلحة إلى الحليفة إسرائيل سوف يشكّل تهديدا لجيش الاحتلال الذي تدعمه الولايات المتحدة.<br />\\nتخبرنا تجاربنا مع الكيان الصهيوني أنه يرفض أي حل سياسي، سواء برعاية الولايات المتحدة أو غيرها، ابتداء من مبادرة روجرز الأميركية في 1969 مرورا بمحطّات بريجنسكي عام 1977، ورونالد ريغان عام 1982، ومفاوضات مدريد، وأوسلو، بعد حرب الكويت، ثم خريطة الطريق في عهد جورج بوش الابن، وصولا إلى مبادرة السلام العربية عام 2002. خاضت إسرائيل هذه المفاوضات من دون أن تتوقّف، يوما، عن بناء المستوطنات، وفشلت هذه المحاولات نتيجة إصرار إسرائيل على الحصول على كل شيء مقابل لا شيء تقريبا، مع استمرارها في ادّعاء أنها الطرف الذي يريد السلام مقابل العرب الذين يرفضونه! فهل من الممكن توقّع شيء آخر الآن؟ وما الذي يمكن أن تسفر عنه الاستغاثات العربية بالولايات المتحدة التي أعلنت بوضوح انحيازها لإسرائيل، أو مجلس الأمن الذي تنتهك إسرائيل قراراته يوميا؟ ألم تكن منصّة إكس أو غيرها من المدوّنات الشخصية أولى بخطابات قمّة الرياض \"الساكتة\"، ولو من باب التوفير؟</p>\\n</div>\\n      <div class=\"field field--name-field-tags field--type-entity-reference field--label-above clearfix\">\\n      <h3 class=\"field__label\">دلالات</h3>\\n    <ul class=\\'links field__items\\'>\\n          <li><a href=\"/tag/%D8%AD%D8%B3%D9%86-%D9%86%D8%B5%D8%B1-%D8%A7%D9%84%D9%84%D9%87\" hreflang=\"ar\">حسن نصر الله</a></li>\\n          <li><a href=\"/tag/%D8%AD%D8%B3%D8%A7%D9%85-%D8%B2%D9%85%D9%84%D8%B7\" hreflang=\"ar\">حسام زملط</a></li>\\n          <li><a href=\"/tag/%D8%B1%D8%AD%D9%85%D8%A9-%D8%B2%D9%8A%D9%86\" hreflang=\"ar\">رحمة زين</a></li>\\n          <li><a href=\"/tag/%D8%A8%D8%A7%D8%B3%D9%85-%D9%8A%D9%88%D8%B3%D9%81\" hreflang=\"ar\">باسم يوسف</a></li>\\n      </ul>\\n</div>\\n\\n  </div>\\n  \\n    <div class=\"col-xs-12 col-sm-12 col-md-3 col-lg-3 col-xl-3 col-3 bs-region bs-region--right\">\\n    \\n<div  class=\"author-content\">\\n      \\n            <div class=\"field field--name-display-field-copynode-author-information-articles field--type-ds field--label-hidden field__item\"><div class=\"row bs-2col-stacked taxonomy-term taxonomy-term--type-author taxonomy-term--view-mode-author-image-and-social-not-clickable\">\\n  \\n\\n  \\n    <div class=\"col-sm-6 bs-region bs-region--left\">\\n    \\n            <div class=\"field field--name-field-image field--type-entity-reference field--label-hidden field__item\">  <img src=\"/sites/default/files/styles/small_1_1/public/media/images/3FE3B96A-2A94-45F9-B896-FDC0381B3B7F.JPG?itok=FqXuLJMC\" width=\"200\" height=\"200\" alt=\"3FE3B96A-2A94-45F9-B896-FDC0381B3B7F\" typeof=\"foaf:Image\" class=\"image-style-small-1-1\" />\\n\\n\\n</div>\\n      \\n<div  class=\"author-popup\">\\n      \\n<div  class=\"image-and-name\">\\n      \\n            <div class=\"field field--name-display-field-copytaxonomy-term-copy-of-author-image field--type-ds field--label-hidden field__item\">  <img src=\"/sites/default/files/styles/small_1_1/public/media/images/3FE3B96A-2A94-45F9-B896-FDC0381B3B7F.JPG?itok=FqXuLJMC\" width=\"200\" height=\"200\" alt=\"3FE3B96A-2A94-45F9-B896-FDC0381B3B7F\" typeof=\"foaf:Image\" class=\"image-style-small-1-1\" />\\n\\n\\n</div>\\n      \\n            <div class=\"field field--name-display-field-copytaxonomy-term-copy-of-author-name field--type-ds field--label-hidden field__item\">محمد طلبة رضوان</div>\\n      \\n  </div>\\n\\n<div  class=\"social-share-and-btn\">\\n          \\n                          <div  class=\"Not clickable\" >\\n        <a href=\"/taxonomy/term/15107\" hreflang=\"ar\">عرض التفاصيل</a>\\n</div>\\n      \\n  \\n\\n\\n  </div>\\n\\n  </div>\\n\\n  </div>\\n  \\n    <div class=\"col-sm-6 bs-region bs-region--right\">\\n    \\n  </div>\\n  \\n    <div class=\"col-sm-12 bs-region bs-region--bottom\">\\n    \\n            <div class=\"field field--name-taxonomy-term-title field--type-ds field--label-hidden field__item\"><span>\\n  محمد طلبة رضوان\\n</span>\\n</div>\\n      \\n  </div>\\n  \\n</div>\\n\\n</div>\\n      \\n            <div class=\"field field--name-dynamic-block-fieldnode-article-author-latest-content-no field--type-ds field--label-hidden field__item\"><div class=\"block block-views block-views-blockblog-view-author-latest-content-not-clickable\">\\n  \\n      <h2><span>مقالات أخرى</span></h2>\\n    \\n      <div class=\"content\">\\n      <div class=\"views-element-container\"><div class=\"view view-blog-view view-id-blog_view view-display-id-author_latest_content_not_clickable js-view-dom-id-8a520f0e16cba2909d635bec4bba726c8d598b8a9706309bb3e99b036b5f638f\">\\n  \\n    \\n      \\n      <div class=\"view-content\">\\n          <div class=\"views-row\">\\n    <article class=\"node node--type-articles node--view-mode-text-teaser-small text-teaser-view-mode small anchor-all clearfix\">\\n  <div class=\"main-content\">\\n    \\n            <div class=\"field field--name-node-title field--type-ds field--label-hidden field__item\"><h3>\\n  <a href=\"/opinion/%D8%AA%D8%AC%D8%B1%D9%8A%D9%85-%D9%85%D9%82%D8%A7%D9%88%D9%85%D8%A9-%D8%A7%D9%84%D9%85%D8%AD%D8%AA%D9%84%D9%91-%D8%B9%D9%82%D9%84%D8%A7%D9%86%D9%8A%D8%A9-%D8%A3%D9%85-%D8%B9%D8%AF%D9%88%D8%A7%D9%86%D9%8A%D8%A9\" hreflang=\"ar\">تجريم مقاومة المحتلّ... عقلانية أم عدوانية؟</a>\\n</h3>\\n</div>\\n      \\n            <div class=\"field field--name-field-publish-date field--type-datetime field--label-hidden field__item\">28 نوفمبر 2023</div>\\n      \\n  </div>\\n</article>\\n\\n\\n  </div>\\n    <div class=\"views-row\">\\n    <article class=\"node node--type-articles node--view-mode-text-teaser-small text-teaser-view-mode small anchor-all clearfix\">\\n  <div class=\"main-content\">\\n    \\n            <div class=\"field field--name-node-title field--type-ds field--label-hidden field__item\"><h3>\\n  <a href=\"/opinion/%D8%AA%D8%AE%D8%A8%D8%B1%D9%86%D8%A7-%D8%BA%D8%B2%D9%91%D8%A9\" hreflang=\"ar\">تخبرنا غزّة</a>\\n</h3>\\n</div>\\n      \\n            <div class=\"field field--name-field-publish-date field--type-datetime field--label-hidden field__item\">21 نوفمبر 2023</div>\\n      \\n  </div>\\n</article>\\n\\n\\n  </div>\\n    <div class=\"views-row\">\\n    <article class=\"node node--type-articles node--view-mode-text-teaser-small text-teaser-view-mode small anchor-all clearfix\">\\n  <div class=\"main-content\">\\n    \\n            <div class=\"field field--name-node-title field--type-ds field--label-hidden field__item\"><h3>\\n  <a href=\"/opinion/%D8%A7%D9%84%D9%86%D8%B8%D8%A7%D9%85-%D8%A7%D9%84%D9%85%D8%B5%D8%B1%D9%8A-%D9%81%D9%8A-%D8%AD%D8%B1%D8%A8-%D8%BA%D8%B2%D9%91%D8%A9\" hreflang=\"ar\">النظام المصري في حرب غزّة</a>\\n</h3>\\n</div>\\n      \\n            <div class=\"field field--name-field-publish-date field--type-datetime field--label-hidden field__item\">07 نوفمبر 2023</div>\\n      \\n  </div>\\n</article>\\n\\n\\n  </div>\\n    <div class=\"views-row\">\\n    <article class=\"node node--type-articles node--view-mode-text-teaser-small text-teaser-view-mode small anchor-all clearfix\">\\n  <div class=\"main-content\">\\n    \\n            <div class=\"field field--name-node-title field--type-ds field--label-hidden field__item\"><h3>\\n  <a href=\"/opinion/%D8%B9%D9%86-%D8%A7%D9%84%D9%85%D9%84%D8%AB%D9%91%D9%85%D9%8A%D9%86-%D8%A8%D8%A7%D9%84%D9%86%D9%82%D8%AF\" hreflang=\"ar\">عن الملثّمين بالنقد</a>\\n</h3>\\n</div>\\n      \\n            <div class=\"field field--name-field-publish-date field--type-datetime field--label-hidden field__item\">31 أكتوبر 2023</div>\\n      \\n  </div>\\n</article>\\n\\n\\n  </div>\\n\\n    </div>\\n  \\n          </div>\\n</div>\\n\\n    </div>\\n  </div>\\n</div>\\n      \\n  </div>\\n\\n            <div class=\"field field--name-dynamic-block-fieldnode-interactive-author-articles-bloc field--type-ds field--label-hidden field__item\"><div class=\"block block-custom-google-analytics block-custom-most-interactive-block\">\\n  \\n    \\n      <div class=\"content\" data-nosnippet >\\n       <div class=\\'most-interactive-section\\' data-type=\"articles\"> <div class=\\'all-most-interactive-articles\\'></div> </div>\\n    </div>\\n  </div>\\n</div>\\n      \\n            <div class=\"field field--name-dynamic-block-fieldnode-halfpage-ad-block field--type-ds field--label-hidden field__item\"><div class=\"custom-ad-block-item text-center halfpage-ads d-none d-md-block\">\\n  <div class=\"ad-gpt-pro\" data-web=\"[300,600]\" data-tablet=\"[300,600]\" data-mob=\"[300,600]\">\\n    <div\\n      class=\"ad-gpt-pro-slot\"\\n      id=\"div-gpt-ad-atv-halfpage-0\"\\n      ad-sizes=\"[[300,600]]\"\\n      ad-custom-sizes=\"[[300,600]]\"\\n      ad-client-id-suffix=\"270638763/AAJ_Half_Page\"\\n              position=\"1\"\\n                    page=\"details-page\"\\n                    section=\"opinion\"\\n            ad-agent=\"any\"\\n      ad-refresh=\"true\">\\n    </div>\\n  </div>\\n</div>\\n</div>\\n      \\n  </div>\\n  \\n    <div class=\"row bs-region bs-region--bottom\">\\n    \\n            <div class=\"field field--name-dynamic-block-fieldnode-subscribe-block-detailed-pages field--type-ds field--label-hidden field__item\"><div class=\"general-subscribe-form\">\\n  <form action=\"/newslettersubscriptions\" method=\"get\" id=\"general-subscribe-form\" class=\"subscribe-form\">\\n    <div id=\"subscribe-wrapper\">\\n      <div class=\"js-form-item-title\">\\n        اشترك الآن في النشرة البريدية ليصلك كل جديد\\n      </div>\\n      <div class=\"form-item-subscribe-email\">\\n        <input placeholder=\"البريد الإلكتروني\" class=\"form-email required form-control\" type=\"email\"  name=\"email\" value=\"\" size=\"60\" maxlength=\"254\" required=\"required\" aria-required=\"true\">\\n        <input type=\"hidden\" name=\"list\" value=\"5c1d0b68b3\">\\n      </div>\\n      <div class=\"form-actions\">\\n        <button type=\"submit\" name=\"op\" value=\"اشترك الآن\" class=\"button button--primary js-form-submit form-submit btn btn-primary\">اشترك الآن</button>\\n      </div>\\n    </div>\\n  </form>\\n</div></div>\\n      \\n            <div class=\"field field--name-dynamic-block-fieldnode-billboard-ad-block field--type-ds field--label-hidden field__item\"><div class=\"custom-ad-block-item text-center billboard-ads\">\\n  <div class=\"ad-gpt-pro\" data-web=\"[970, 250], [970, 90]\" data-tablet=\"[728, 90]\" data-mob=\"[300,250], [300,300], [300,600]\">\\n    <div\\n      class=\"ad-gpt-pro-slot\"\\n      id=\"div-gpt-ad-billboard-0\"\\n      ad-sizes=\"[[970, 250], [970, 90]]\"\\n      ad-custom-sizes=\"[[970, 250], [970, 90]]\"\\n      ad-client-id-suffix=\"270638763/AAJ_Billboard\"\\n              position=\"1\"\\n                    page=\"details-page\"\\n                    section=\"opinion\"\\n            ad-agent=\"any\"\\n      ad-refresh=\"true\">\\n    </div>\\n  </div>\\n</div>\\n</div>\\n      \\n  </div>\\n  \\n</div>\\n\\n\\n    </div>\\n  </div>\\n\\n\\n        </section>\\n      </main>\\n                </div>\\n  </div>\\n    </div>\\n        <footer class=\"site-footer\">\\n        <footer>\\n  <div class=\"footer-top\">\\n    <div class=\"container\">\\n      <div class=\"row\">\\n        <div class=\"footer-top-right col-sm-12 col-lg-8\">\\n          <div class=\"footer-top-right-top d-flex\">\\n            <a href=\"/\" class=\"navbar-brand\">\\n              <img src=\"/themes/custom/alaraby/images/alarby-aljadeed-logo-white.svg\" width=\"200\" class=\"img-fluid d-inline-block align-top\">\\n            </a>\\n              <section class=\"row region region-footer-top-top-left\">\\n    <nav role=\"navigation\" aria-labelledby=\"block-socialmenu-2-menu\" id=\"block-socialmenu-2\" class=\"block block-menu navigation menu--social-menu\">\\n            \\n  <span class=\"sr-only\" id=\"block-socialmenu-2-menu\">Social Menu</span>\\n  \\n\\n        \\n              <ul class=\"clearfix nav\">\\n                    <li class=\"nav-item\">\\n                <a href=\"https://www.facebook.com/AlAraby.ar\" class=\"nav-link fab fa-facebook-f ext nav-link-https--wwwfacebookcom-alarabyar\" target=\"_blank\">Facebook</a>\\n              </li>\\n                <li class=\"nav-item\">\\n                <a href=\"https://twitter.com/alaraby_ar\" class=\"nav-link fab fa-twitter ext nav-link-https--twittercom-alaraby-ar\" target=\"_blank\">Twitter</a>\\n              </li>\\n                <li class=\"nav-item\">\\n                <a href=\"https://www.instagram.com/alaraby_ar/\" class=\"nav-link fab fa-instagram ext nav-link-https--wwwinstagramcom-alaraby-ar-\" target=\"_blank\">Instagram </a>\\n              </li>\\n                <li class=\"nav-item\">\\n                <a href=\"https://www.baaz.com/%D8%A7%D9%84%D8%B9%D8%B1%D8%A8%D9%8A.%D8%A7%D9%84%D8%AC%D8%AF%D9%8A%D8%AF\" class=\"nav-link baaz nav-link-https--wwwbaazcom-d8a7d984d8b9d8b1d8a8d98ad8a7d984d8acd8afd98ad8af\" target=\"_blank\">Baaz</a>\\n              </li>\\n                <li class=\"nav-item\">\\n                <a href=\"https://www.youtube.com/@AlArabyAr\" class=\"nav-link fab fa-youtube nav-link-https--wwwyoutubecom-alarabyar\" target=\"_blank\">Youtube</a>\\n              </li>\\n                <li class=\"nav-item\">\\n                <a href=\"https://www.alaraby.co.uk/feeds\" class=\"nav-link fas fa-rss nav-link-https--wwwalarabycouk-feeds\" target=\"_blank\">RSS</a>\\n              </li>\\n        </ul>\\n  \\n\\n\\n  </nav>\\n<nav role=\"navigation\" aria-labelledby=\"block-downloadapp-menu\" id=\"block-downloadapp\" class=\"block block-menu navigation menu--download-app\">\\n            \\n  <span class=\"sr-only\" id=\"block-downloadapp-menu\">Download app</span>\\n  \\n\\n        \\n              <ul class=\"clearfix nav\">\\n                    <li class=\"nav-item\">\\n                <a href=\"https://apps.apple.com/us/app/%D8%A7%D9%84%D8%B9%D8%B1%D8%A8%D9%8A-%D8%A7%D9%84%D8%AC%D8%AF%D9%8A%D8%AF/id957745789\" class=\"nav-link app-store-ios nav-link-https--appsapplecom-us-app-d8a7d984d8b9d8b1d8a8d98a-d8a7d984d8acd8afd98ad8af-id957745789\" target=\"_blank\">IOS</a>\\n              </li>\\n                <li class=\"nav-item\">\\n                <a href=\"https://play.google.com/store/apps/details?id=com.iHorizons&amp;hl=ar\" class=\"nav-link fab fa-google-play nav-link-https--playgooglecom-store-apps-detailsidcomihorizonshlar\" target=\"_blank\">Android</a>\\n              </li>\\n        </ul>\\n  \\n\\n\\n  </nav>\\n\\n  </section>\\n\\n          </div>\\n          <div class=\"footer-top-right-bottom\">\\n              <section class=\"row region region-footer-top-bottom\">\\n    <nav role=\"navigation\" aria-labelledby=\"block-footerlist-menu\" id=\"block-footerlist\" class=\"block block-menu navigation menu--footer-list\">\\n            \\n  <span class=\"sr-only\" id=\"block-footerlist-menu\">Footer List</span>\\n  \\n\\n        \\n              <ul class=\"clearfix nav\">\\n                    <li class=\"nav-item\">\\n                <a href=\"/news\" class=\"nav-link nav-link--news\">أخبار</a>\\n              </li>\\n                <li class=\"nav-item\">\\n                <a href=\"/politics\" class=\"nav-link nav-link--politics\">سياسة</a>\\n              </li>\\n                <li class=\"nav-item\">\\n                <a href=\"/economy\" class=\"nav-link nav-link--economy\">اقتصاد</a>\\n              </li>\\n                <li class=\"nav-item\">\\n                <a href=\"/opinion\" class=\"nav-link nav-link--opinion\">مقالات</a>\\n              </li>\\n                <li class=\"nav-item\">\\n                <a href=\"/investigations\" class=\"nav-link nav-link--investigations\">تحقيقات</a>\\n              </li>\\n                <li class=\"nav-item\">\\n                <a href=\"/sport\" class=\"nav-link nav-link--sport\">رياضة</a>\\n              </li>\\n                <li class=\"nav-item\">\\n                <a href=\"/culture\" class=\"nav-link nav-link--culture\">ثقافة</a>\\n              </li>\\n                <li class=\"nav-item\">\\n                <a href=\"/society\" class=\"nav-link nav-link--society\">مجتمع</a>\\n              </li>\\n                <li class=\"nav-item\">\\n                <a href=\"/entertainment_media\" class=\"nav-link nav-link--entertainment-media\">منوعات</a>\\n              </li>\\n                <li class=\"nav-item\">\\n                <a href=\"/podcast\" class=\"nav-link nav-link--podcast\">بودكاست</a>\\n              </li>\\n                <li class=\"nav-item\">\\n                <a href=\"/society/weather\" title=\"حالة الطقس\" class=\"nav-link nav-link--society-weather\">حالة الطقس</a>\\n              </li>\\n        </ul>\\n  \\n\\n\\n  </nav>\\n\\n  </section>\\n\\n          </div>\\n        </div>\\n        <div class=\"footer-top-left col-sm-12 col-lg-4\">\\n            <section class=\"row region region-footer-top-left\">\\n    <div id=\"block-generalsubscribeblock\" class=\"block block-custom-mailchimp-subscription block-general-subscribe-block\">\\n  \\n    \\n      <div class=\"content\">\\n      <div class=\"general-subscribe-form\">\\n  <form action=\"/newslettersubscriptions\" method=\"get\" id=\"general-subscribe-form\" class=\"subscribe-form\">\\n    <div id=\"subscribe-wrapper\">\\n      <div class=\"js-form-item-title\">\\n        اشترك الآن في النشرة البريدية ليصلك كل جديد\\n      </div>\\n      <div class=\"form-item-subscribe-email\">\\n        <input placeholder=\"البريد الإلكتروني\" class=\"form-email required form-control\" type=\"email\"  name=\"email\" value=\"\" size=\"60\" maxlength=\"254\" required=\"required\" aria-required=\"true\">\\n        <input type=\"hidden\" name=\"list\" value=\"5c1d0b68b3\">\\n      </div>\\n      <div class=\"form-actions\">\\n        <button type=\"submit\" name=\"op\" value=\"اشترك الآن\" class=\"button button--primary js-form-submit form-submit btn btn-primary\">اشترك الآن</button>\\n      </div>\\n    </div>\\n  </form>\\n</div>\\n    </div>\\n  </div>\\n\\n  </section>\\n\\n        </div>\\n      </div>\\n    </div>\\n  </div>\\n  <div class=\"footer-middle\">\\n    <div class=\"container\">\\n      <div class=\"row align-items-center\">\\n        <div class=\"right col\">\\n            <section class=\"row region region-footer-middle-right\">\\n    <nav role=\"navigation\" aria-labelledby=\"block-alaraby-footer-menu\" id=\"block-alaraby-footer\" class=\"block block-menu navigation menu--footer\">\\n            \\n  <span class=\"sr-only\" id=\"block-alaraby-footer-menu\">Footer menu</span>\\n  \\n\\n        \\n              <ul block=\"block-alaraby-footer\" class=\"clearfix nav navbar-nav\">\\n                    <li class=\"nav-item\">\\n                <a href=\"/about-us\" class=\"nav-link nav-link--about-us\">من نحن</a>\\n              </li>\\n                <li class=\"nav-item\">\\n                <a href=\"/newslettersubscriptions\" class=\"nav-link nav-link--newslettersubscriptions\">النشرة البريدية</a>\\n              </li>\\n                <li class=\"nav-item\">\\n                <a href=\"/subscriptions\" class=\"nav-link nav-link--subscriptions\">الاشتراكات</a>\\n              </li>\\n                <li class=\"nav-item\">\\n                <a href=\"/contact\" class=\"nav-link nav-link--contact\">اتصل بنا</a>\\n              </li>\\n                <li class=\"nav-item\">\\n                <a href=\"/careers\" class=\"nav-link nav-link--careers\">وظائف شاغرة</a>\\n              </li>\\n        </ul>\\n  \\n\\n\\n  </nav>\\n\\n  </section>\\n\\n        </div>\\n        <div class=\"left \">\\n            <section class=\"row region region-footer-middle-left\">\\n    <div id=\"block-alarabycopyright\" class=\"block block-custom block-alaraby-copyright\">\\n  \\n    \\n      <div class=\"content\">\\n      <div class=\"copyright\">جميع حقوق النشر محفوظة 2023</div>\\n    </div>\\n  </div>\\n<nav role=\"navigation\" aria-labelledby=\"block-footerbottom-menu\" id=\"block-footerbottom\" class=\"block block-menu navigation menu--footer-bottom\">\\n            \\n  <span class=\"sr-only\" id=\"block-footerbottom-menu\">Footer Bottom</span>\\n  \\n\\n        \\n              <ul class=\"clearfix nav\">\\n                    <li class=\"nav-item\">\\n                <a href=\"/termofservice\" class=\"nav-link nav-link--termofservice\">اتفاقية استخدام الموقع</a>\\n              </li>\\n                <li class=\"nav-item\">\\n                <a href=\"/privacy\" class=\"nav-link nav-link--privacy\">سياسة الخصوصية</a>\\n              </li>\\n        </ul>\\n  \\n\\n\\n  </nav>\\n\\n  </section>\\n\\n        </div>\\n      </div>\\n    </div>\\n  </div>\\n  <div class=\"footer-bottom\">\\n    <div class=\"container\">\\n      <div class=\"row\">\\n        <div class=\"col\">\\n            <section class=\"row region region-footer-bottom\">\\n    <nav role=\"navigation\" aria-labelledby=\"block-logosfootermenu-menu\" id=\"block-logosfootermenu\" class=\"block block-menu navigation menu--logos-footer-menu\">\\n      \\n  <span id=\"block-logosfootermenu-menu\">مواقع أخرى:</span>\\n  \\n\\n        \\n              <ul class=\"clearfix nav\">\\n                    <li class=\"nav-item\">\\n                <a href=\"/%D8%AA%D8%B3%D9%84%D9%8A%D8%A9-%D8%A3%D9%84%D8%B9%D8%A7%D8%A8-%D9%85%D8%B3%D8%A7%D8%A8%D9%82%D8%A7%D8%AA\" class=\"nav-link games-and-comp nav-link--d8aad8b3d984d98ad8a9-d8a3d984d8b9d8a7d8a8-d985d8b3d8a7d8a8d982d8a7d8aa\">ألعاب ومسابقات</a>\\n              </li>\\n                <li class=\"nav-item\">\\n                <a href=\"https://www.newarab.com/\" class=\"nav-link nav-link-https--englishalarabycouk-english nav-link-https--wwwnewarabcom-\" target=\"_blank\">The New arab</a>\\n              </li>\\n                <li class=\"nav-item\">\\n                <a href=\"https://diffah.alaraby.co.uk/diffah\" class=\"nav-link nav-link-https--diffahalarabycouk-diffah\" target=\"_blank\">ضفة الثالثة</a>\\n              </li>\\n                <li class=\"nav-item\">\\n                <a href=\"/printedarchive\" class=\"nav-link nav-link--printedarchive\">النسخة الورقية</a>\\n              </li>\\n        </ul>\\n  \\n\\n\\n  </nav>\\n<div id=\"block-compliancebannertext\" class=\"block block-custom-gdpr block-compliance-banner\">\\n  \\n    \\n      <div class=\"content\">\\n      <div id=\"cookies-eu-banner\" class=\"sliding-popup-bottom\" style=\"display: none;\">\\n    <i class=\"fa fa-times append-jquery-x\" onclick=\"jQuery(this).parent().fadeOut()\"></i>\\n    <p>نستخدم ملفات تعريف الارتباط (كوكيز) خاصة بنا وتابعة لأطراف ثالثة لدراسة و تحليل استخدام الموقع الالكتروني وتحسين خدماتنا و وظائف الموقع. بمواصلة تصفحك لموقعنا فإنك توافق على استخدام ملفات تعريف الارتباط (كوكيز) وعلى <a href=\"/privacy\" target=\"_blank\">سياسة الخصوصية</a>.</p>\\r\\n\\n    <button id=\"cookies-eu-accept\">موافق</button>\\n</div>\\n\\n    </div>\\n  </div>\\n\\n  </section>\\n\\n          <div class = \"copyright-iHorizons\"><a href=\"https://www.ihorizons.com/\" target=\"_blank\"><img src=\"/themes/custom/alaraby/images/iHorizons.png\"/></a></div>\\n        </div>\\n      </div>\\n    </div>\\n  </div>\\n</footer>    </footer>\\n  </div>\\n</div>\\n\\n  </div>\\n\\n        \\n        <script type=\"application/json\" data-drupal-selector=\"drupal-settings-json\">{\"path\":{\"baseUrl\":\"\\\\/\",\"scriptPath\":null,\"pathPrefix\":\"\",\"currentPath\":\"node\\\\/7539513\",\"currentPathIsAdmin\":false,\"isFront\":false,\"currentLanguage\":\"ar\"},\"pluralDelimiter\":\"\\\\u0003\",\"suppressDeprecationErrors\":true,\"ajaxPageState\":{\"libraries\":\"addtoany\\\\/addtoany,alaraby\\\\/betterlogin,alaraby\\\\/blogs-detailed-theme,alaraby\\\\/bootstrap-scripts,alaraby\\\\/bootstrap-styles,alaraby\\\\/fontawesome,alaraby\\\\/global-styles,alaraby\\\\/global-styling,alaraby\\\\/infinite_scroll,alaraby\\\\/material_design_icons,alaraby\\\\/theme-layout,alaraby\\\\/vbp-colors,anchor_link\\\\/drupal.anchor_link,blazy\\\\/load,block_ajax\\\\/ajax_blocks,bootstrap_barrio\\\\/breadcrumb,bootstrap_barrio\\\\/form,bootstrap_barrio\\\\/global-styling,ckeditor_indentblock\\\\/indentblock,core\\\\/html5shiv,custom\\\\/text_resize,custom_gdpr\\\\/cookies_eu_banner,custom_push_notifications\\\\/custom_push_notifications,ihorizons_next_article\\\\/infinite_scroll,poll\\\\/drupal.poll-links,system\\\\/base,views\\\\/views.module,vmi\\\\/text_teaser_small\",\"theme\":\"alaraby\",\"theme_token\":null},\"ajaxTrustedUrl\":{\"\\\\/search\":true},\"privacy_version\":{\"is_version_changed\":true,\"changed_date\":\"2020-10-02T03:12:55\"},\"field_group\":{\"html_element\":{\"mode\":\"author_name_popup\",\"context\":\"view\",\"settings\":{\"id\":\"\",\"classes\":\"image-and-name\",\"element\":\"div\",\"show_label\":false,\"label_element\":\"h3\",\"label_element_classes\":\"\",\"attributes\":\"\",\"effect\":\"none\",\"speed\":\"fast\"}}},\"blazy\":{\"loadInvisible\":false,\"offset\":100,\"saveViewportOffsetDelay\":50,\"validateDelay\":25,\"container\":\"\"},\"blazyIo\":{\"enabled\":false,\"disconnect\":false,\"rootMargin\":\"0px\",\"threshold\":[0]},\"block_ajax\":{\"config\":{\"type\":\"GET\",\"timeout\":\"10000\",\"async\":true,\"cache\":false,\"dataType\":\"json\"},\"blocks\":{\"trending_now_block\":{\"id\":\"block_content:9d25f5c5-a53b-4d76-9ffa-7c21052935b6\",\"label\":\"Trending Now\",\"provider\":\"block_content\",\"label_display\":\"0\",\"status\":true,\"info\":\"\",\"view_mode\":\"full\",\"block_ajax\":{\"is_ajax\":1,\"max_age\":\"600\",\"show_spinner\":0,\"placeholder\":\"\",\"ajax_defaults\":{\"method\":\"GET\",\"timeout\":\"10000\",\"others\":{\"async\":\"async\",\"cache\":0}}},\"current_node\":352723,\"current_user\":0,\"current_term\":0}}},\"ihorizons_next_article\":{\"infiniteScroll\":{\"next_articles\":[{\"node_alias\":\"\\\\/opinion\\\\/\\\\u062d\\\\u064a\\\\u0627\\\\u0629-\\\\u0631\\\\u0648\\\\u0633\\\\u0651\\\\u0648-\\\\u0641\\\\u064a-\\\\u0645\\\\u0639\\\\u0627\\\\u062f\\\\u0644\\\\u0629-\\\\u0637\\\\u0647-\\\\u0639\\\\u0628\\\\u062f-\\\\u0627\\\\u0644\\\\u0631\\\\u062d\\\\u0645\\\\u0646\",\"type\":\"articles\",\"subsection_english\":\"commentsandfeedback\",\"location\":\"\",\"author\":\"\\\\u0645\\\\u0647\\\\u0646\\\\u0627 \\\\u0627\\\\u0644\\\\u062d\\\\u0628\\\\u064a\\\\u0644\",\"publish_date_formatted\":\"2023-11-28\"},{\"node_alias\":\"\\\\/opinion\\\\/\\\\u0627\\\\u0644\\\\u062d\\\\u0631\\\\u0628-\\\\u0639\\\\u0644\\\\u0649-\\\\u0627\\\\u0644\\\\u062c\\\\u0628\\\\u0647\\\\u0629-\\\\u0627\\\\u0644\\\\u062b\\\\u0627\\\\u0644\\\\u062b\\\\u0629\",\"type\":\"articles\",\"subsection_english\":\"columns\",\"location\":\"\",\"author\":\"\\\\u0639\\\\u064a\\\\u0633\\\\u0649 \\\\u0627\\\\u0644\\\\u0634\\\\u0639\\\\u064a\\\\u0628\\\\u064a\",\"publish_date_formatted\":\"2023-11-28\"},{\"node_alias\":\"\\\\/opinion\\\\/\\\\u0633\\\\u0627\\\\u0646\\\\u0634\\\\u064a\\\\u0632-\\\\u064a\\\\u0645\\\\u0643\\\\u0646-\\\\u0644\\\\u0637\\\\u0627\\\\u0626\\\\u0631-\\\\u0645\\\\u0646\\\\u0641\\\\u0631\\\\u062f-\\\\u0623\\\\u0646\\\\u202e-\\\\u202c\\\\u064a\\\\u0635\\\\u0646\\\\u0639-\\\\u0631\\\\u0628\\\\u064a\\\\u0639-\\\\u0623\\\\u0648\\\\u0631\\\\u0648\\\\u0628\\\\u0627\",\"type\":\"articles\",\"subsection_english\":\"commentsandfeedback\",\"location\":\"\",\"author\":\"\\\\u0639\\\\u0628\\\\u062f \\\\u0627\\\\u0644\\\\u062d\\\\u0645\\\\u064a\\\\u062f \\\\u0627\\\\u062c\\\\u0645\\\\u0627\\\\u0647\\\\u064a\\\\u0631\\\\u064a\",\"publish_date_formatted\":\"2023-11-28\"},{\"node_alias\":\"\\\\/opinion\\\\/\\\\u0627\\\\u0644\\\\u062a\\\\u0637\\\\u0631\\\\u0651\\\\u0641-\\\\u0627\\\\u0644\\\\u062f\\\\u064a\\\\u0646\\\\u064a-\\\\u064a\\\\u0647\\\\u0648\\\\u062f\\\\u064a\\\\u0651-\\\\u0623\\\\u064a\\\\u0636\\\\u0627\\\\u064b\",\"type\":\"articles\",\"subsection_english\":\"columns\",\"location\":\"\",\"author\":\"\\\\u0646\\\\u062c\\\\u0648\\\\u0649 \\\\u0628\\\\u0631\\\\u0643\\\\u0627\\\\u062a\",\"publish_date_formatted\":\"2023-11-28\"},{\"node_alias\":\"\\\\/opinion\\\\/\\\\u062a\\\\u062c\\\\u0631\\\\u064a\\\\u0645-\\\\u0645\\\\u0642\\\\u0627\\\\u0648\\\\u0645\\\\u0629-\\\\u0627\\\\u0644\\\\u0645\\\\u062d\\\\u062a\\\\u0644\\\\u0651-\\\\u0639\\\\u0642\\\\u0644\\\\u0627\\\\u0646\\\\u064a\\\\u0629-\\\\u0623\\\\u0645-\\\\u0639\\\\u062f\\\\u0648\\\\u0627\\\\u0646\\\\u064a\\\\u0629\",\"type\":\"articles\",\"subsection_english\":\"columns\",\"location\":\"\",\"author\":\"\\\\u0645\\\\u062d\\\\u0645\\\\u062f \\\\u0637\\\\u0644\\\\u0628\\\\u0629 \\\\u0631\\\\u0636\\\\u0648\\\\u0627\\\\u0646\",\"publish_date_formatted\":\"2023-11-28\"},{\"node_alias\":\"\\\\/opinion\\\\/\\\\u0641\\\\u064a-\\\\u062a\\\\u0631\\\\u0627\\\\u062c\\\\u0639-\\\\u0627\\\\u0644\\\\u0627\\\\u0647\\\\u062a\\\\u0645\\\\u0627\\\\u0645-\\\\u0628\\\\u0627\\\\u0644\\\\u0627\\\\u0646\\\\u062a\\\\u062e\\\\u0627\\\\u0628\\\\u0627\\\\u062a-\\\\u0627\\\\u0644\\\\u0631\\\\u0626\\\\u0627\\\\u0633\\\\u064a\\\\u0629-\\\\u0627\\\\u0644\\\\u0645\\\\u0635\\\\u0631\\\\u064a\\\\u0629\",\"type\":\"articles\",\"subsection_english\":\"commentsandfeedback\",\"location\":\"\",\"author\":\"\\\\u0634\\\\u0631\\\\u064a\\\\u0641 \\\\u0647\\\\u0644\\\\u0627\\\\u0644\\\\u064a\",\"publish_date_formatted\":\"2023-11-28\"},{\"node_alias\":\"\\\\/opinion\\\\/\\\\u0645\\\\u062d\\\\u0627\\\\u0631\\\\u0628\\\\u0629-\\\\u0639\\\\u062f\\\\u0648\\\\u0651\\\\u064d-\\\\u0648\\\\u0647\\\\u0645\\\\u064a\",\"type\":\"articles\",\"subsection_english\":\"columns\",\"location\":\"\",\"author\":\"\\\\u0623\\\\u062d\\\\u0645\\\\u062f \\\\u0633\\\\u0639\\\\u062f\\\\u0627\\\\u0648\\\\u064a\",\"publish_date_formatted\":\"2023-11-28\"},{\"node_alias\":\"\\\\/opinion\\\\/\\\\u0647\\\\u0644-\\\\u062a\\\\u0643\\\\u0648\\\\u0646-\\\\u0647\\\\u062f\\\\u0646\\\\u0629-\\\\u063a\\\\u0632\\\\u0651\\\\u0629-\\\\u0645\\\\u062f\\\\u062e\\\\u0644-\\\\u0627\\\\u0644\\\\u062d\\\\u0644\\\\u0651\",\"type\":\"articles\",\"subsection_english\":\"commentsandfeedback\",\"location\":\"\",\"author\":\"\\\\u0639\\\\u0628\\\\u062f \\\\u0627\\\\u0644\\\\u0628\\\\u0627\\\\u0633\\\\u0637 \\\\u0633\\\\u064a\\\\u062f\\\\u0627\",\"publish_date_formatted\":\"2023-11-28\"},{\"node_alias\":\"\\\\/opinion\\\\/\\\\u0645\\\\u0646-\\\\u0623\\\\u062c\\\\u0644-\\\\u0633\\\\u0631\\\\u062f\\\\u064a\\\\u0629-\\\\u062d\\\\u0642\\\\u0648\\\\u0642\\\\u064a\\\\u0651\\\\u0629-\\\\u0644\\\\u063a\\\\u0632\\\\u0651\\\\u0629\",\"type\":\"articles\",\"subsection_english\":\"commentsandfeedback\",\"location\":\"\",\"author\":\"\\\\u0641\\\\u0627\\\\u0637\\\\u0645\\\\u0629 \\\\u0627\\\\u0644\\\\u0639\\\\u064a\\\\u0633\\\\u0627\\\\u0648\\\\u064a\",\"publish_date_formatted\":\"2023-11-28\"},{\"node_alias\":\"\\\\/opinion\\\\/\\\\u0627\\\\u0644\\\\u0636\\\\u0641\\\\u0629\\\\u064f-\\\\u0627\\\\u0644\\\\u063a\\\\u0631\\\\u0628\\\\u064a\\\\u0651\\\\u064e\\\\u0629\\\\u064f-\\\\u0627\\\\u0644\\\\u062d\\\\u0631\\\\u064a\\\\u0651\\\\u064e\\\\u0629-\\\\u062e\\\\u0636\\\\u0631\\\\u0627\\\\u0621\",\"type\":\"articles\",\"subsection_english\":\"commentsandfeedback\",\"location\":\"\",\"author\":\"\\\\u0623\\\\u0633\\\\u0627\\\\u0645\\\\u0629 \\\\u0639\\\\u062b\\\\u0645\\\\u0627\\\\u0646\",\"publish_date_formatted\":\"2023-11-28\"}],\"wrapper_class\":\"#block-alaraby-content \\\\u003E .content\",\"nodes_limit\":\"10\",\"reached_limit_message\":\"\\\\u0644\\\\u0645\\\\u0632\\\\u064a\\\\u062f \\\\u0645\\\\u0646 \\\\u0627\\\\u0644\\\\u0646\\\\u062a\\\\u0627\\\\u0626\\\\u062c \\\\u060c \\\\u064a\\\\u0631\\\\u062c\\\\u0649 \\\\u0627\\\\u0633\\\\u062a\\\\u062e\\\\u062f\\\\u0627\\\\u0645 \\\\u0627\\\\u0644\\\\u0628\\\\u062d\\\\u062b \\\\u0627\\\\u0644\\\\u0645\\\\u062a\\\\u0642\\\\u062f\\\\u0645\"}},\"user\":{\"uid\":0,\"permissionsHash\":\"2316a69390046c8d52e0d81c28a8ed3002e3761967cbd015f11f4a97fbcb2f31\"}}</script>\\n<script src=\"/sites/default/files/js/js_obMdTORvKSMhWaB1MfdbI8MjsqZnbMIr8oxlzLIgW5g.js\" rel=\"preload\"></script>\\n<script src=\"//static.addtoany.com/menu/page.js\" async rel=\"preload\"></script>\\n<script src=\"/sites/default/files/js/js_O89Y4BYQ4kd2HysEU1HZdqPar-HhfTYsvmRsWFRsJ1c.js\" rel=\"preload\"></script>\\n<script src=\"//www.gstatic.com/firebasejs/8.4.2/firebase-app.js\" rel=\"preload\"></script>\\n<script src=\"//www.gstatic.com/firebasejs/7.16.1/firebase-messaging.js\" rel=\"preload\"></script>\\n<script src=\"/sites/default/files/js/js_Lr201v1eVZFKqDe-JL8wcOG2EOaoqjgs9CxirFyDKbY.js\" rel=\"preload\"></script>\\n<script src=\"//ajax.googleapis.com/ajax/libs/jqueryui/1.12.1/jquery-ui.min.js\" rel=\"preload\"></script>\\n<script src=\"/sites/default/files/js/js_YMcozcWbZvWDxhQSGrS8JNwMvGr9ImYMDcbkTWWrDvc.js\" rel=\"preload\"></script>\\n<script src=\"/sites/default/files/js/js__XD-1RC2KW6sH4dAYrNjyH6ziXlUlk7pPtmXacqR5iI.js\" rel=\"preload\"></script>\\n<script src=\"//www.riddle.com/embed/files/js/embed.js\" rel=\"preload\"></script>\\n\\n    </body>\\n</html>\\n'"
            ],
            "application/vnd.google.colaboratory.intrinsic+json": {
              "type": "string"
            }
          },
          "metadata": {},
          "execution_count": 67
        }
      ]
    },
    {
      "cell_type": "code",
      "source": [
        "article.parse()"
      ],
      "metadata": {
        "id": "44mH2ir3flBQ"
      },
      "execution_count": 68,
      "outputs": []
    },
    {
      "cell_type": "code",
      "source": [
        "article.text"
      ],
      "metadata": {
        "colab": {
          "base_uri": "https://localhost:8080/",
          "height": 125
        },
        "id": "hw3mfdbufsVs",
        "outputId": "e1c9f5d7-9ff6-4c55-9d01-5439f1763f37"
      },
      "execution_count": 69,
      "outputs": [
        {
          "output_type": "execute_result",
          "data": {
            "text/plain": [
              "'لماذا الرياض وليس \"منصّة x\"؟\\n\\nدعت القاهرة إلى قمّة دولية للسلام في 21 الشهر الماضي (أكتوبر/ تشرين الأول)، وبعد 14 يوما من اندلاع الحرب في غزّة، وانتهت من دون نتيجة تقريبا. ثم دعت الرياض إلى قمّة أخرى، استثنائية، كما سموها، عربية، ثم صارت عربية إسلامية، ما دفع كثيرين إلى التفكير بالتمنّي، وتوقع شيء فارق، ومختلف، وحلّ سياسي حقيقي، يتناسب مع مكانة الرياض (ومشروعها). وارتفع سقف الاحتمالات ليتجاوز بروموهات كلمة أمين عام حزب الله، حسن نصر الله، الأولى (وشبيهتها الثانية). جاءت كلمات قادة وزعماء الدول العربية والإسلامية إنشائية، على تباين مستويات الإنشاء بحسب تفاوت أحجام الدول وطبيعة المتحدّثين، من دون اقتراح حلٍّ عمليٍّ واحد، أو مجرّد التلويح بفعل أو ردّ فعل ما، يعكس قيمة المجتمعين، ومدى تقديرهم الفاجعة وتداعياتها الكارثية وآثارها المستقبلية الحتمية عليهم جميعا.\\n\\nجاءت بعض الخطابات أشبه بتغريدات منصّة إكس، أو \"فيسبوك\" بعد أسرلتها \"حرفيا\"، فيما تجاوز بضعها الآخر، مشكورا، سقف المنصّة الإلكترونية إلى المداخلات التلفزيونية، حتى تشعر كأنك أمام \"حضور\" حسام زملط، أو \"حماس\" رحمة زين، أو \"قوّة\" محمّد حجاب، لكنك لا تشعر أبدًا أنك أمام جرأة سخرية باسم يوسف.\\n\\nتعتمد كثير من خطابات الساسة العرب إلى شعوبهم على محدّد \"معرفة الدولة\" ما لا يعرفه غيرها، سواء كانوا من المعارضين، الذين لا يملكون سوى المزايدات أو \"الكلام المرتّب\" على أقصى تقدير، لكنهم لا يدركون خطورة المنصب، وحجم المسؤولية، ومعنى الدولة، وتوازنات السياسة وإكراهاتها، ناهيك عن الشعوب، أو عوامّ الناس ممن لا يعرفون شيئا على الإطلاق، والأصلح لهم أن يستمتعوا بإنجازات أصحاب الفخامة وهم صمٌّ بكمٌ عُميٌّ حتى يرجعوا إلى بيوتهم.\\n\\nتتكرّر هذه السردية بصيغ مختلفة، بعضها ذكي ومراوغ، في خطابات الأذرع الإعلامية، وبعضها قصف مباشر في خطابات القادة أنفسهم. هكذا بوضوح، لا أريكم إلا ما أرى، ثم يأتي اختبارٌ حقيقي، مثل القضية الفلسطينية التي تخصّ كل عربي، من هؤلاء الذين لا يعرفون شيئا على الإطلاق، لكنهم يفوّضون قادتهم العارفين بالله وبالدولة، فإذا بنا أمام طبقةٍ أخرى من \"العوام\"، والمفوّضين أمرَهم إلى الولايات المتحدة... إدانات للعدوان الإسرائيلي على قطاع غزّة، وجرائم الحرب والمجازر الهمجية والوحشية واللا إنسانية، التي ترتكبها إسرائيل، ومطالبات لمجلس الأمن باتّخاذ قرار حاسم ملزم يفرض وقف العدوان ويكبح جماح سلطة الاحتلال الاستعماري التي تنتهك القانون الدولي، والإنساني، وقرارات الشرعية الدولية، ودعوات بوقف تصدير الأسلحة والذخائر إلى إسرائيل، الأمر الذي فاجأ كثيرين، ليس لأن دولا عربية ترسل أسلحة إلى قتلة الأطفال في فلسطين، فهذا متوقّع، ولكن لأن دولا عربية تتصوّر أو تريد أن تصوّر لشعوبها أن توقفها عن تصدير الأسلحة إلى الحليفة إسرائيل سوف يشكّل تهديدا لجيش الاحتلال الذي تدعمه الولايات المتحدة.\\n\\nتخبرنا تجاربنا مع الكيان الصهيوني أنه يرفض أي حل سياسي، سواء برعاية الولايات المتحدة أو غيرها، ابتداء من مبادرة روجرز الأميركية في 1969 مرورا بمحطّات بريجنسكي عام 1977، ورونالد ريغان عام 1982، ومفاوضات مدريد، وأوسلو، بعد حرب الكويت، ثم خريطة الطريق في عهد جورج بوش الابن، وصولا إلى مبادرة السلام العربية عام 2002. خاضت إسرائيل هذه المفاوضات من دون أن تتوقّف، يوما، عن بناء المستوطنات، وفشلت هذه المحاولات نتيجة إصرار إسرائيل على الحصول على كل شيء مقابل لا شيء تقريبا، مع استمرارها في ادّعاء أنها الطرف الذي يريد السلام مقابل العرب الذين يرفضونه! فهل من الممكن توقّع شيء آخر الآن؟ وما الذي يمكن أن تسفر عنه الاستغاثات العربية بالولايات المتحدة التي أعلنت بوضوح انحيازها لإسرائيل، أو مجلس الأمن الذي تنتهك إسرائيل قراراته يوميا؟ ألم تكن منصّة إكس أو غيرها من المدوّنات الشخصية أولى بخطابات قمّة الرياض \"الساكتة\"، ولو من باب التوفير؟'"
            ],
            "application/vnd.google.colaboratory.intrinsic+json": {
              "type": "string"
            }
          },
          "metadata": {},
          "execution_count": 69
        }
      ]
    },
    {
      "cell_type": "code",
      "source": [
        "import nltk"
      ],
      "metadata": {
        "id": "Y66RVT4wgnM8"
      },
      "execution_count": 70,
      "outputs": []
    },
    {
      "cell_type": "code",
      "source": [
        "nltk.download('popular')"
      ],
      "metadata": {
        "colab": {
          "base_uri": "https://localhost:8080/"
        },
        "id": "BNAfhnzYgyBW",
        "outputId": "04126431-1e67-4808-d584-b752ea9d6064"
      },
      "execution_count": 71,
      "outputs": [
        {
          "output_type": "stream",
          "name": "stderr",
          "text": [
            "[nltk_data] Downloading collection 'popular'\n",
            "[nltk_data]    | \n",
            "[nltk_data]    | Downloading package cmudict to /root/nltk_data...\n",
            "[nltk_data]    |   Package cmudict is already up-to-date!\n",
            "[nltk_data]    | Downloading package gazetteers to /root/nltk_data...\n",
            "[nltk_data]    |   Package gazetteers is already up-to-date!\n",
            "[nltk_data]    | Downloading package genesis to /root/nltk_data...\n",
            "[nltk_data]    |   Package genesis is already up-to-date!\n",
            "[nltk_data]    | Downloading package gutenberg to /root/nltk_data...\n",
            "[nltk_data]    |   Package gutenberg is already up-to-date!\n",
            "[nltk_data]    | Downloading package inaugural to /root/nltk_data...\n",
            "[nltk_data]    |   Package inaugural is already up-to-date!\n",
            "[nltk_data]    | Downloading package movie_reviews to\n",
            "[nltk_data]    |     /root/nltk_data...\n",
            "[nltk_data]    |   Package movie_reviews is already up-to-date!\n",
            "[nltk_data]    | Downloading package names to /root/nltk_data...\n",
            "[nltk_data]    |   Package names is already up-to-date!\n",
            "[nltk_data]    | Downloading package shakespeare to /root/nltk_data...\n",
            "[nltk_data]    |   Package shakespeare is already up-to-date!\n",
            "[nltk_data]    | Downloading package stopwords to /root/nltk_data...\n",
            "[nltk_data]    |   Package stopwords is already up-to-date!\n",
            "[nltk_data]    | Downloading package treebank to /root/nltk_data...\n",
            "[nltk_data]    |   Package treebank is already up-to-date!\n",
            "[nltk_data]    | Downloading package twitter_samples to\n",
            "[nltk_data]    |     /root/nltk_data...\n",
            "[nltk_data]    |   Package twitter_samples is already up-to-date!\n",
            "[nltk_data]    | Downloading package omw to /root/nltk_data...\n",
            "[nltk_data]    |   Package omw is already up-to-date!\n",
            "[nltk_data]    | Downloading package omw-1.4 to /root/nltk_data...\n",
            "[nltk_data]    |   Package omw-1.4 is already up-to-date!\n",
            "[nltk_data]    | Downloading package wordnet to /root/nltk_data...\n",
            "[nltk_data]    |   Package wordnet is already up-to-date!\n",
            "[nltk_data]    | Downloading package wordnet2021 to /root/nltk_data...\n",
            "[nltk_data]    |   Package wordnet2021 is already up-to-date!\n",
            "[nltk_data]    | Downloading package wordnet31 to /root/nltk_data...\n",
            "[nltk_data]    |   Package wordnet31 is already up-to-date!\n",
            "[nltk_data]    | Downloading package wordnet_ic to /root/nltk_data...\n",
            "[nltk_data]    |   Package wordnet_ic is already up-to-date!\n",
            "[nltk_data]    | Downloading package words to /root/nltk_data...\n",
            "[nltk_data]    |   Package words is already up-to-date!\n",
            "[nltk_data]    | Downloading package maxent_ne_chunker to\n",
            "[nltk_data]    |     /root/nltk_data...\n",
            "[nltk_data]    |   Package maxent_ne_chunker is already up-to-date!\n",
            "[nltk_data]    | Downloading package punkt to /root/nltk_data...\n",
            "[nltk_data]    |   Package punkt is already up-to-date!\n",
            "[nltk_data]    | Downloading package snowball_data to\n",
            "[nltk_data]    |     /root/nltk_data...\n",
            "[nltk_data]    |   Package snowball_data is already up-to-date!\n",
            "[nltk_data]    | Downloading package averaged_perceptron_tagger to\n",
            "[nltk_data]    |     /root/nltk_data...\n",
            "[nltk_data]    |   Package averaged_perceptron_tagger is already up-\n",
            "[nltk_data]    |       to-date!\n",
            "[nltk_data]    | \n",
            "[nltk_data]  Done downloading collection popular\n"
          ]
        },
        {
          "output_type": "execute_result",
          "data": {
            "text/plain": [
              "True"
            ]
          },
          "metadata": {},
          "execution_count": 71
        }
      ]
    },
    {
      "cell_type": "code",
      "source": [
        "article.nlp()"
      ],
      "metadata": {
        "id": "6z4cEHoqgOxx"
      },
      "execution_count": 72,
      "outputs": []
    },
    {
      "cell_type": "code",
      "source": [
        "article.keywords"
      ],
      "metadata": {
        "colab": {
          "base_uri": "https://localhost:8080/"
        },
        "id": "8JTXQ0wwgYSe",
        "outputId": "bf74b194-b3cf-40a2-a1ac-ca24cf216411"
      },
      "execution_count": 73,
      "outputs": [
        {
          "output_type": "execute_result",
          "data": {
            "text/plain": [
              "['وليس',\n",
              " 'الرياض',\n",
              " 'أن',\n",
              " 'أو',\n",
              " 'على',\n",
              " 'ما',\n",
              " 'x',\n",
              " 'لماذا',\n",
              " 'إسرائيل',\n",
              " 'الذي',\n",
              " 'في',\n",
              " 'لا',\n",
              " 'منصة',\n",
              " 'من',\n",
              " 'إلى']"
            ]
          },
          "metadata": {},
          "execution_count": 73
        }
      ]
    },
    {
      "cell_type": "markdown",
      "source": [],
      "metadata": {
        "id": "ARPJ22Q9fj5D"
      }
    },
    {
      "cell_type": "code",
      "source": [
        "import newspaper"
      ],
      "metadata": {
        "id": "KbNLGiz-h5an"
      },
      "execution_count": 74,
      "outputs": []
    },
    {
      "cell_type": "code",
      "source": [
        "arab_paper = newspaper.build('https://www.alaraby.co.uk/opinion/%D9%84%D9%85%D8%A7%D8%B0%D8%A7-%D8%A7%D9%84%D8%B1%D9%8A%D8%A7%D8%B6-%D9%88%D9%84%D9%8A%D8%B3-%D9%85%D9%86%D8%B5%D9%91%D8%A9-x/', language=\"ar\")\n",
        "\n"
      ],
      "metadata": {
        "id": "r58Bt96whWih"
      },
      "execution_count": 75,
      "outputs": []
    },
    {
      "cell_type": "code",
      "source": [
        "for category in arab_paper.category_urls():\n",
        "    print(category)"
      ],
      "metadata": {
        "colab": {
          "base_uri": "https://localhost:8080/"
        },
        "id": "KOq0vPnYh_Li",
        "outputId": "ba666b00-6280-40e6-ff07-f87cce7ec9ff"
      },
      "execution_count": 76,
      "outputs": [
        {
          "output_type": "stream",
          "name": "stdout",
          "text": [
            "https://www.alaraby.co.uk/politics/%D9%85%D8%AF%D9%8A%D8%B1-%D8%B3%D9%8A-%D8%A2%D9%8A-%D8%A5%D9%8A%D9%87-%D9%81%D9%8A-%D8%A7%D9%84%D8%AF%D9%88%D8%AD%D8%A9-%D9%84%D8%A8%D8%AD%D8%AB-%D8%B5%D9%81%D9%82%D8%A9-%D9%88%D8%A7%D8%B3%D8%B9%D8%A9-%D8%A8%D9%8A%D9%86-%D8%A5%D8%B3%D8%B1%D8%A7%D8%A6%D9%8A%D9%84-%D9%88%D8%AD%D9%85%D8%A7%D8%B3/\n",
            "https://www.alaraby.co.uk\n",
            "https://www.alaraby.co.uk/culture\n",
            "https://www.alaraby.co.uk/gallery\n",
            "https://www.alaraby.co.uk/sport\n",
            "https://www.alaraby.co.uk/economy\n",
            "https://www.alaraby.co.uk/news\n",
            "https://www.alaraby.co.uk/maraya\n",
            "https://www.alaraby.co.uk/termofservice\n",
            "https://www.alaraby.co.uk/politics\n",
            "https://www.alaraby.co.uk/comics\n",
            "https://diffah.alaraby.co.uk\n",
            "https://www.alaraby.co.uk/podcast\n",
            "https://www.alaraby.co.uk/society\n",
            "https://www.alaraby.co.uk/opinion\n",
            "https://www.alaraby.co.uk/video\n"
          ]
        }
      ]
    },
    {
      "cell_type": "code",
      "source": [
        "article = arab_paper.articles[0]"
      ],
      "metadata": {
        "id": "8p8gNHZ1iZbP"
      },
      "execution_count": 77,
      "outputs": []
    },
    {
      "cell_type": "code",
      "source": [
        "article.download()"
      ],
      "metadata": {
        "id": "SgJLW8z0ijpH"
      },
      "execution_count": 78,
      "outputs": []
    },
    {
      "cell_type": "code",
      "source": [
        "article.parse()"
      ],
      "metadata": {
        "id": "s8m-GNZkimhT"
      },
      "execution_count": 79,
      "outputs": []
    },
    {
      "cell_type": "code",
      "source": [
        "print(article.text)"
      ],
      "metadata": {
        "colab": {
          "base_uri": "https://localhost:8080/"
        },
        "id": "XzNmedzIiqBJ",
        "outputId": "4460f734-a13f-4735-81c2-11a10d4aa68f"
      },
      "execution_count": 80,
      "outputs": [
        {
          "output_type": "stream",
          "name": "stdout",
          "text": [
            "على جدار مدرسة ابتدائية بحي الزهروني الشعبي، غربي العاصمة تونس، انهمكت مجموعة من الشبان في إحضار أدوات الرسم للتعبير بأسلوب فني عن تضامنهم مع القضية الفلسطينية، وكل صاحب حق. اختار شباب الحي التونسي رسم رموز للمقاومة الفلسطينية والعربية عموما، للتأكيد على دعمهم أهالي قطاع غزة، وإبراز حقيقة أن الجرح واحد وإن بعدت المسافات.\n",
            "\n",
            "(الأناضول)\n"
          ]
        }
      ]
    },
    {
      "cell_type": "code",
      "source": [
        "pip install -U textblob"
      ],
      "metadata": {
        "colab": {
          "base_uri": "https://localhost:8080/"
        },
        "id": "yNegHBe9kSNm",
        "outputId": "6afd38d0-718f-4abb-d442-cae03abb4e3e"
      },
      "execution_count": 81,
      "outputs": [
        {
          "output_type": "stream",
          "name": "stdout",
          "text": [
            "Requirement already satisfied: textblob in /usr/local/lib/python3.10/dist-packages (0.17.1)\n",
            "Requirement already satisfied: nltk>=3.1 in /usr/local/lib/python3.10/dist-packages (from textblob) (3.8.1)\n",
            "Requirement already satisfied: click in /usr/local/lib/python3.10/dist-packages (from nltk>=3.1->textblob) (8.1.7)\n",
            "Requirement already satisfied: joblib in /usr/local/lib/python3.10/dist-packages (from nltk>=3.1->textblob) (1.3.2)\n",
            "Requirement already satisfied: regex>=2021.8.3 in /usr/local/lib/python3.10/dist-packages (from nltk>=3.1->textblob) (2023.6.3)\n",
            "Requirement already satisfied: tqdm in /usr/local/lib/python3.10/dist-packages (from nltk>=3.1->textblob) (4.66.1)\n"
          ]
        }
      ]
    },
    {
      "cell_type": "code",
      "source": [
        "from textblob import TextBlob"
      ],
      "metadata": {
        "id": "Q5zboHZKk0RF"
      },
      "execution_count": 82,
      "outputs": []
    },
    {
      "cell_type": "code",
      "source": [
        "blob = TextBlob(article.text)"
      ],
      "metadata": {
        "id": "gcFI4btQk-q7"
      },
      "execution_count": 83,
      "outputs": []
    },
    {
      "cell_type": "code",
      "source": [
        "blob.tokens"
      ],
      "metadata": {
        "colab": {
          "base_uri": "https://localhost:8080/"
        },
        "id": "TCkglQb1lSuD",
        "outputId": "022c26a0-6a0e-4476-f9c4-3e98f5118756"
      },
      "execution_count": 84,
      "outputs": [
        {
          "output_type": "execute_result",
          "data": {
            "text/plain": [
              "WordList(['على', 'جدار', 'مدرسة', 'ابتدائية', 'بحي', 'الزهروني', 'الشعبي،', 'غربي', 'العاصمة', 'تونس،', 'انهمكت', 'مجموعة', 'من', 'الشبان', 'في', 'إحضار', 'أدوات', 'الرسم', 'للتعبير', 'بأسلوب', 'فني', 'عن', 'تضامنهم', 'مع', 'القضية', 'الفلسطينية،', 'وكل', 'صاحب', 'حق', '.', 'اختار', 'شباب', 'الحي', 'التونسي', 'رسم', 'رموز', 'للمقاومة', 'الفلسطينية', 'والعربية', 'عموما،', 'للتأكيد', 'على', 'دعمهم', 'أهالي', 'قطاع', 'غزة،', 'وإبراز', 'حقيقة', 'أن', 'الجرح', 'واحد', 'وإن', 'بعدت', 'المسافات', '.', '(', 'الأناضول', ')'])"
            ]
          },
          "metadata": {},
          "execution_count": 84
        }
      ]
    },
    {
      "cell_type": "code",
      "source": [
        "from textblob import TextBlob"
      ],
      "metadata": {
        "id": "FcpxLYptlcmQ"
      },
      "execution_count": 85,
      "outputs": []
    },
    {
      "cell_type": "code",
      "source": [
        "blob = TextBlob(article.text)"
      ],
      "metadata": {
        "id": "PrCkOZmPlunI"
      },
      "execution_count": 86,
      "outputs": []
    },
    {
      "cell_type": "code",
      "source": [
        "blob.sentiment"
      ],
      "metadata": {
        "colab": {
          "base_uri": "https://localhost:8080/"
        },
        "id": "3BwhxiCYl2-x",
        "outputId": "da9045bc-325d-4937-820b-91c45a005158"
      },
      "execution_count": 87,
      "outputs": [
        {
          "output_type": "execute_result",
          "data": {
            "text/plain": [
              "Sentiment(polarity=0.0, subjectivity=0.0)"
            ]
          },
          "metadata": {},
          "execution_count": 87
        }
      ]
    },
    {
      "cell_type": "code",
      "source": [
        "blob = TextBlob(article.text[0:100])"
      ],
      "metadata": {
        "id": "qyylaZKbl9KY"
      },
      "execution_count": 88,
      "outputs": []
    },
    {
      "cell_type": "code",
      "source": [
        "blob.sentiment"
      ],
      "metadata": {
        "colab": {
          "base_uri": "https://localhost:8080/"
        },
        "id": "MyVbFkYWmMqK",
        "outputId": "fa9c88c5-4b4d-4e84-98b7-8958006ba149"
      },
      "execution_count": 89,
      "outputs": [
        {
          "output_type": "execute_result",
          "data": {
            "text/plain": [
              "Sentiment(polarity=0.0, subjectivity=0.0)"
            ]
          },
          "metadata": {},
          "execution_count": 89
        }
      ]
    },
    {
      "cell_type": "code",
      "source": [
        ">>> from textblob_ar import TextBlob\n",
        ">>> blob = TextBlob('اعجبني هذا الكتاب. اعترض قليلا مع بعض افكاره لكن مضمونه رائع')\n",
        ">>> blob.sentiment\n",
        "Sentiment(polarity=0.8, subjectivity=0.9)\n",
        ">>> blob = TextBlob('لم يعجبني هذا الكتاب. مضمونه سئ')\n",
        ">>> blob.sentiment\n",
        "Sentiment(polarity=-0.6999999999999998, subjectivity=0.6666666666666666)"
      ],
      "metadata": {
        "colab": {
          "base_uri": "https://localhost:8080/",
          "height": 393
        },
        "id": "_bSzqAlild60",
        "outputId": "9f896226-39b1-4a61-b7f8-4e7cb1a2f38c"
      },
      "execution_count": 90,
      "outputs": [
        {
          "output_type": "error",
          "ename": "ModuleNotFoundError",
          "evalue": "ignored",
          "traceback": [
            "\u001b[0;31m---------------------------------------------------------------------------\u001b[0m",
            "\u001b[0;31mModuleNotFoundError\u001b[0m                       Traceback (most recent call last)",
            "\u001b[0;32m<ipython-input-90-b5236be6c017>\u001b[0m in \u001b[0;36m<cell line: 1>\u001b[0;34m()\u001b[0m\n\u001b[0;32m----> 1\u001b[0;31m \u001b[0;32mfrom\u001b[0m \u001b[0mtextblob_ar\u001b[0m \u001b[0;32mimport\u001b[0m \u001b[0mTextBlob\u001b[0m\u001b[0;34m\u001b[0m\u001b[0;34m\u001b[0m\u001b[0m\n\u001b[0m\u001b[1;32m      2\u001b[0m \u001b[0mblob\u001b[0m \u001b[0;34m=\u001b[0m \u001b[0mTextBlob\u001b[0m\u001b[0;34m(\u001b[0m\u001b[0;34m'اعجبني هذا الكتاب. اعترض قليلا مع بعض افكاره لكن مضمونه رائع'\u001b[0m\u001b[0;34m)\u001b[0m\u001b[0;34m\u001b[0m\u001b[0;34m\u001b[0m\u001b[0m\n\u001b[1;32m      3\u001b[0m \u001b[0mblob\u001b[0m\u001b[0;34m.\u001b[0m\u001b[0msentiment\u001b[0m\u001b[0;34m\u001b[0m\u001b[0;34m\u001b[0m\u001b[0m\n\u001b[1;32m      4\u001b[0m \u001b[0mSentiment\u001b[0m\u001b[0;34m(\u001b[0m\u001b[0mpolarity\u001b[0m\u001b[0;34m=\u001b[0m\u001b[0;36m0.8\u001b[0m\u001b[0;34m,\u001b[0m \u001b[0msubjectivity\u001b[0m\u001b[0;34m=\u001b[0m\u001b[0;36m0.9\u001b[0m\u001b[0;34m)\u001b[0m\u001b[0;34m\u001b[0m\u001b[0;34m\u001b[0m\u001b[0m\n\u001b[1;32m      5\u001b[0m \u001b[0mblob\u001b[0m \u001b[0;34m=\u001b[0m \u001b[0mTextBlob\u001b[0m\u001b[0;34m(\u001b[0m\u001b[0;34m'لم يعجبني هذا الكتاب. مضمونه سئ'\u001b[0m\u001b[0;34m)\u001b[0m\u001b[0;34m\u001b[0m\u001b[0;34m\u001b[0m\u001b[0m\n",
            "\u001b[0;31mModuleNotFoundError\u001b[0m: No module named 'textblob_ar'",
            "",
            "\u001b[0;31m---------------------------------------------------------------------------\u001b[0;32m\nNOTE: If your import is failing due to a missing package, you can\nmanually install dependencies using either !pip or !apt.\n\nTo view examples of installing some common dependencies, click the\n\"Open Examples\" button below.\n\u001b[0;31m---------------------------------------------------------------------------\u001b[0m\n"
          ],
          "errorDetails": {
            "actions": [
              {
                "action": "open_url",
                "actionText": "Open Examples",
                "url": "/notebooks/snippets/importing_libraries.ipynb"
              }
            ]
          }
        }
      ]
    },
    {
      "cell_type": "code",
      "source": [
        "\n",
        ">>> from textblob_ar import TextBlob\n",
        ">>> blob = TextBlob(u\"\"\"هندسة البرمجيات هي دراسة تصميم وتنفيذ وتعديل البرمجيات بما يضمن توفر هذه البرمجيات بجودة عالية وتكلفة معقولة متاحة للجميع وقابلة للتطوير فيما بعد وسريعة للبناء. وهندسة البرمجيات تقوم على أسس ونظريات من الهندسة وعلوم الحاسب كمبدأ ال Functional Structure من الهندسة والذي يعتمد على مبدأ تصميم أجزاء صغيرة تتجانس في العمل مع بعضها لتشكل عمل الكل.\"\"\")\n",
        ">>> blob.tokens\n",
        "WordList(['هندسة', 'البرمجيات', 'هي', 'دراسة', 'تصميم', 'وتنفيذ', 'وتعديل', 'البرمجيات', 'بما', 'يضمن', 'توفر', 'هذه', 'البرمجيات', 'بجودة', 'عالية', 'وتكلفة', 'معقولة', 'متاحة', 'للجميع', 'وقابلة', 'للتطوير', 'فيما', 'بعد', 'وسريعة', 'للبناء', '.', 'وهندسة', 'البرمجيات', 'تقوم', 'على', 'أسس', 'ونظريات', 'من', 'الهندسة', 'وعلوم', 'الحاسب', 'كمبدأ', 'ال', 'Functional', 'Structure', 'من', 'الهندسة', 'والذي', 'يعتمد', 'على', 'مبدأ', 'تصميم', 'أجزاء', 'صغيرة', 'تتجانس', 'في', 'العمل', 'مع', 'بعضها', 'لتشكل', 'عمل', 'الكل', '.'])\n"
      ],
      "metadata": {
        "id": "mZeFKBwNe7ZB"
      },
      "execution_count": null,
      "outputs": []
    }
  ]
}